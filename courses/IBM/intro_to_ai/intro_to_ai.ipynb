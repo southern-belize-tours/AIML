{
 "cells": [
  {
   "cell_type": "markdown",
   "metadata": {},
   "source": [
    "# Intro to AI"
   ]
  },
  {
   "cell_type": "markdown",
   "metadata": {},
   "source": [
    "Social networking has encouraged a massive proportion of our data to be **unstructured**"
   ]
  },
  {
   "cell_type": "markdown",
   "metadata": {},
   "source": [
    "We have:\n",
    "* Supervised Learning\n",
    "* Unsupervised Learning\n",
    "* Reinforcement Learning"
   ]
  },
  {
   "cell_type": "markdown",
   "metadata": {},
   "source": [
    "**Applied AI** can perform specific tasks but not learn new ones. It makes decisions based on programmed algorithms and training data."
   ]
  },
  {
   "cell_type": "markdown",
   "metadata": {},
   "source": [
    "**Generalized AI** interacts and operates with a wide variety of independent and unrelated tasks.\n",
    "* It can learn new tasks to solve new problems, and it does this by teaching itself new strategies."
   ]
  },
  {
   "cell_type": "markdown",
   "metadata": {},
   "source": [
    "**Super AI** or **Conscious AI** doesn't exist right now because we can't adequately define consciousness."
   ]
  },
  {
   "cell_type": "markdown",
   "metadata": {},
   "source": [
    "## Defining AI"
   ]
  },
  {
   "cell_type": "markdown",
   "metadata": {},
   "source": [
    "*Teaching Machines to learn and act as humans would*\n",
    "\n",
    "*How do we impart more cognitive and sensory capabilities on machines (pattern recognition, understanding speech, vision, etc.)*\n",
    "\n",
    "*How can we create a technology that replaces/augments what humans do? (Imparting the ability to think and learn on a machine)*"
   ]
  },
  {
   "cell_type": "markdown",
   "metadata": {},
   "source": [
    "Extracting knowledge from data, learning and understanding patterns from data that it can use to recognize in new data."
   ]
  },
  {
   "cell_type": "markdown",
   "metadata": {},
   "source": [
    "## Generative AI Overview & Use Cases"
   ]
  },
  {
   "cell_type": "markdown",
   "metadata": {},
   "source": [
    "Normal AI: *Augmented Intelligence that helps experts scale their capabilities*\n",
    "\n",
    "Gen AI: *A new type of technique capable of creating new and unique data*"
   ]
  },
  {
   "cell_type": "markdown",
   "metadata": {},
   "source": [
    "A generative AI model can also use LLM to generate new natural language. It can design new and more powerful LLM algorithms and architectures."
   ]
  },
  {
   "cell_type": "markdown",
   "metadata": {},
   "source": [
    "Generative AI benefits us with:\n",
    "* Creativity and innovation\n",
    "* Cost and time savings\n",
    "* Personalization\n",
    "* Scalability\n",
    "* Robustness\n",
    "* Exploration of new possibilities"
   ]
  },
  {
   "cell_type": "markdown",
   "metadata": {},
   "source": [
    "### Use Cases"
   ]
  },
  {
   "cell_type": "markdown",
   "metadata": {},
   "source": [
    "* Healthcare\n",
    "* Agriculture - optimize crop yields, develop more resistant crop varieties\n",
    "* Biotech\n",
    "* Forensics - analyze DNA evidence, identify suspects\n",
    "* Environmental conservation  - analyze genetic data, suggest breeding and conservation stratigies\n",
    "* Creative - produce unique digital art, music, video content\n",
    "* Gaming - generate new levels, characters, and objects\n",
    "* Fashion - virtual try-on experiences\n",
    "* Robotics - new movements and adapt to changing environments\n",
    "* Education - customized learning materials\n",
    "* Data Augmentation - produce new training data for machine leraning models"
   ]
  },
  {
   "cell_type": "markdown",
   "metadata": {},
   "source": [
    "## Impact of AI"
   ]
  },
  {
   "cell_type": "markdown",
   "metadata": {},
   "source": [
    "**16 trillion** of GDP will be added between now and 2030 on the basis of AI"
   ]
  },
  {
   "cell_type": "markdown",
   "metadata": {},
   "source": []
  }
 ],
 "metadata": {
  "language_info": {
   "name": "python"
  }
 },
 "nbformat": 4,
 "nbformat_minor": 2
}
