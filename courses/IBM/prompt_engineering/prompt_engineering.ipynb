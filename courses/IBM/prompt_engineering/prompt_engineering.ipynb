{
 "cells": [
  {
   "cell_type": "markdown",
   "metadata": {},
   "source": [
    "# 💬 Prompt Engineering Notes"
   ]
  },
  {
   "cell_type": "markdown",
   "metadata": {},
   "source": [
    "**Prompt Engineering** is defined as the process of designing and refining prompts or instructions given to a language model t ogenerate desired outputs.\n",
    "* It can be used to fine-tune the output of language models by specifying explicit instructions, adding  ontext, or using specific formatting techniques to guide the model's generation"
   ]
  },
  {
   "cell_type": "markdown",
   "metadata": {},
   "source": [
    "Generally, prompts are classified as \"*zero shot*\", \"*one shot*\" and \"*few shot*.\"\n",
    "* **Zero-shot** scenarios are where the model is given a task without any prior examples. e.g. if you ask a model to \"*define prompt engineering*\" that's fairly zer-shot\n",
    "* **One-shot** provides the model with a single example\n",
    "* **Few-shot** provides several examples to help guide the model's output"
   ]
  },
  {
   "cell_type": "markdown",
   "metadata": {},
   "source": [
    "Prior to the advent of AI, english was pretty useless to a computer. You needed a programming language to be broken down into machine code. Now, AI can do many tasks that would require programming (or at least some level of software skills), for example sorting a list of names in alphabetical order - chatGPT can do that for you. You don't need to build a python script or excel sheet filter."
   ]
  },
  {
   "cell_type": "markdown",
   "metadata": {},
   "source": [
    "So now the trick is learning how to program in english. This is essentially **prompt engineering** which will allow you to take full advantage of these LLMs."
   ]
  },
  {
   "cell_type": "markdown",
   "metadata": {},
   "source": [
    "### Limitations of LLMs"
   ]
  },
  {
   "cell_type": "markdown",
   "metadata": {},
   "source": [
    "* Not always accurate - also they are trained on data, which means that despite best efforts we cannot always escape feeding models flawed and biased information\n",
    "* No real intelligence in the broader aspects\n",
    "* Not as precise and configurable as traditional programming"
   ]
  },
  {
   "cell_type": "markdown",
   "metadata": {},
   "source": [
    "### Naive vs. Persona Prompts"
   ]
  },
  {
   "cell_type": "markdown",
   "metadata": {},
   "source": [
    "One interesting question is:\n",
    "```text\n",
    "What's the best way to get fit?\n",
    "```"
   ]
  },
  {
   "cell_type": "markdown",
   "metadata": {},
   "source": [
    "\"*The best way to get fit is to combine a healthy diet with regular exercise. Aim for a balanced diet that includes plenty of fruits, vegetables, lean proteins, and whole grains. In terms of exercise, a combination of cardio (such as running, cycling, or swimming) and strength training (using weights or bodyweight exercises) is ideal for overall fitness. It's also important to stay hydrated, get enough sleep, and manage stress levels to support your fitness goals. Remember to start slowly and gradually increase the intensity of your workouts to avoid injury.*\""
   ]
  },
  {
   "cell_type": "markdown",
   "metadata": {},
   "source": [
    "The AI will give you a good, generalized response about eating healthy, doing cardio, doing weights, and getting rest. Not bad, but it's very generic and could be better."
   ]
  },
  {
   "cell_type": "markdown",
   "metadata": {},
   "source": [
    "Introducing **persona** queries: ask the AI to take on the persona of a fitness expert so that you might get the best, most strongly-prescribed advice.\n",
    "```text\n",
    "Acting as a fitness expert, tell me the best way to get fit\n",
    "```"
   ]
  },
  {
   "cell_type": "markdown",
   "metadata": {},
   "source": [
    "\"*As a fitness expert, the best way to get fit is to create a well-rounded workout routine that includes cardio, strength training, flexibility exercises, and rest days for recovery. Cardio exercises like running, cycling, or HIIT workouts help improve cardiovascular health and burn calories. Strength training, whether using weights or bodyweight exercises, helps build muscle mass and increase metabolism. Incorporating flexibility exercises like yoga or stretching can improve range of motion and prevent injury. Remember to listen to your body, stay consistent with your workouts, and adjust your routine as needed to continue seeing progress. It's also important to consult with a fitness professional to create a personalized plan that suits your goals and abilities.*\""
   ]
  },
  {
   "cell_type": "markdown",
   "metadata": {},
   "source": [
    "Here you'll get some more specifics, along with some ideas about setting goals and getting a personalized plan. It's a little better than the initial naive question."
   ]
  },
  {
   "cell_type": "markdown",
   "metadata": {},
   "source": [
    "You can also specify things like \"format specifics in tables whenever possible\" to get nicer answer layouts."
   ]
  },
  {
   "cell_type": "markdown",
   "metadata": {},
   "source": [
    "\"*As a fitness expert, the best way to get fit involves a combination of cardio, strength training, flexibility exercises, and rest days for recovery. Here is a breakdown of each component in a table format:\n",
    "\n",
    "| Component            | Description                                                                                           |\n",
    "|----------------------|-------------------------------------------------------------------------------------------------------|\n",
    "| Cardio               | Includes activities like running, cycling, or HIIT workouts to improve cardiovascular health and burn calories. |\n",
    "| Strength Training    | Involves using weights or bodyweight exercises to build muscle mass and increase metabolism.           |\n",
    "| Flexibility Exercises| Incorporates activities like yoga or stretching to improve range of motion and prevent injury.         |\n",
    "| Rest Days            | Essential for allowing the body to recover and repair itself after intense workouts.                   |\n",
    "\n",
    "Remember to create a balanced workout routine that includes all of these components, listen to your body, and consult with a fitness professional for personalized guidance.*\""
   ]
  },
  {
   "cell_type": "markdown",
   "metadata": {},
   "source": [
    "Some good prompt instructions might include:\n",
    "1) Telling the LLM the persona it should act as\n",
    "2) Specify a qualifier about it being research based regarding the persona\n",
    "3) Specify the format of response we're looking for"
   ]
  },
  {
   "cell_type": "markdown",
   "metadata": {},
   "source": [
    "You can also ask the AI to channel celebrities, or specific figures. This might get you specific angles, as well as making the chats a little-more interesting."
   ]
  },
  {
   "cell_type": "markdown",
   "metadata": {},
   "source": [
    "For a plant-based breakfast option, you could try a smoothie bowl made with blended fruits, leafy greens, nuts, seeds, and plant-based protein powder. This combination provides a good balance of carbohydrates, protein, and healthy fats to start your day.\n",
    "\n",
    "For a low-carb, high-fat (keto) breakfast option, you could have scrambled eggs cooked in coconut oil with avocado slices and a side of sautéed spinach. This meal is high in healthy fats and protein, while being low in carbohydrates to support a ketogenic diet."
   ]
  },
  {
   "cell_type": "markdown",
   "metadata": {},
   "source": [
    "### Interview Pattern"
   ]
  },
  {
   "cell_type": "markdown",
   "metadata": {},
   "source": [
    "While employing the **persona** pattern can make naiive prompts much better, there are still limitations e.g. the AI is giving responses applying to you as a somewhat generic person, and not as an individual. For fitness programs you might have specified \"beginner\" or \"out-of-shape individual\", but this still is not well-catered to you as an individual and might be better made to suite your needs."
   ]
  },
  {
   "cell_type": "markdown",
   "metadata": {},
   "source": [
    "\n",
    "```text\n",
    "\"You will act as a fitness expert who is current with the latest research data and provide very detailed step-by-step instructions in reply to my queries. You will interview me, asking me all the relevant questions necessary for you to generate the best possible answer to my queries. Create a gym workout program to lose weight and build strength.\"\n",
    "```"
   ]
  },
  {
   "cell_type": "markdown",
   "metadata": {},
   "source": [
    "Here you'll get some response asking for details e.g.\n",
    "```text\n",
    "\"Great! To create an effective gym workout program to lose weight and build strength, I will need to ask you a few questions first. \n",
    "\n",
    "1. What is your current fitness level and experience with working out?\n",
    "2. Do you have any specific fitness goals in mind, such as a target weight or muscle strength?\n",
    "3. How many days per week are you able to dedicate to working out at the gym?\n",
    "4. Do you have any injuries or medical conditions that may affect your workout routine?\n",
    "5. Are you looking to focus more on cardio for weight loss or strength training for muscle building?\n",
    "\n",
    "Once I have more information from you, I can tailor a personalized gym workout program that includes a mix of cardio and strength training exercises to help you achieve your goals. Let's get started!\"\n",
    "```"
   ]
  },
  {
   "cell_type": "markdown",
   "metadata": {},
   "source": [
    "I gave my response:\n",
    "```text\n",
    "\"1. What is your current fitness level and experience with working out? I am fairly intermediate in my current fitness level and somewhat advanced in my experience. Currently I run 5k every weekday, and lift weights at the gym maybe 2-3 days a week. I walk a lot to get around. I used to be a personal trainer so I have a lot of knowledge, but have been in less-good shape due to changing to a more sedentary lifestyle and losing a lot of muscle/gaining fat during the covid pandemic.\n",
    "2. Do you have any specific fitness goals in mind, such as a target weight or muscle strength? I want to lose fat and get a six pack. If I can build muscle on my upper body that would be great, I want to bench press heavy weights over 225 lbs. I do not want my legs to get bigger since they are already quite large.\n",
    "3. How many days per week are you able to dedicate to working out at the gym? I currently go to the gym 2-3 times per week. I am capable of going 5 times per week.\n",
    "4. Do you have any injuries or medical conditions that may affect your workout routine? I have shin splints and vey mild recurring lower back pains that I get from doing push-ups and squats. \n",
    "5. Are you looking to focus more on cardio for weight loss or strength training for muscle building? No strong preference. I have some muscle that I really don't want to lose. But I also am more keen on losing fat than I am on gaining muscle.\n",
    "```"
   ]
  },
  {
   "cell_type": "markdown",
   "metadata": {},
   "source": [
    "I got the following customized plan as a response:\n",
    "```text\n",
    "Based on the information you provided, here is a personalized gym workout program to help you lose weight, build strength, and achieve your fitness goals:\n",
    "\n",
    "Day 1: Strength Training\n",
    "- Bench Press: 4 sets of 6-8 reps\n",
    "- Bent Over Rows: 4 sets of 8-10 reps\n",
    "- Overhead Shoulder Press: 3 sets of 8-10 reps\n",
    "- Bicep Curls: 3 sets of 10-12 reps\n",
    "- Tricep Dips: 3 sets of 10-12 reps\n",
    "\n",
    "Day 2: Cardio and Core\n",
    "- 30 minutes of high-intensity interval training (HIIT) on the treadmill or elliptical\n",
    "- Planks: 3 sets of 30-60 seconds\n",
    "- Russian Twists: 3 sets of 15-20 reps\n",
    "- Leg Raises: 3 sets of 12-15 reps\n",
    "\n",
    "Day 3: Rest or Active Recovery (Stretching, Yoga, or Light Cardio)\n",
    "\n",
    "Day 4: Strength Training\n",
    "- Squats: 4 sets of 6-8 reps\n",
    "- Deadlifts: 4 sets of 6-8 reps\n",
    "- Pull-Ups or Lat Pulldowns: 3 sets of 8-10 reps\n",
    "- Leg Press: 3 sets of 10-12 reps\n",
    "- Calf Raises: 3 sets of 12-15 reps\n",
    "\n",
    "Day 5: Cardio and Core\n",
    "- 30 minutes of steady-state cardio on the bike or rowing machine\n",
    "- Bicycle Crunches: 3 sets of 20-25 reps\n",
    "- Mountain Climbers: 3 sets of 20-25 reps\n",
    "- Side Planks: 3 sets of 30-45 seconds per side\n",
    "\n",
    "Day 6: Strength Training\n",
    "- Incline Bench Press: 4 sets of 6-8 reps\n",
    "- Dumbbell Rows: 4 sets of 8-10 reps\n",
    "- Shoulder Lateral Raises: 3 sets of 10-12 reps\n",
    "- Hammer Curls: 3 sets of 10-12 reps\n",
    "- Tricep Skull Crushers: 3 sets of 10-12 reps\n",
    "\n",
    "Day 7: Rest or Active Recovery (Stretching, Yoga, or Light Cardio)\n",
    "\n",
    "Remember to listen to your body and modify the exercises if needed due to your shin splints and lower back pain. Focus on proper form and gradually increase weights to avoid injury. Additionally, maintaining a healthy diet and staying hydrated will complement your workout routine for optimal results. Good luck on your fitness journey!\n",
    "```"
   ]
  },
  {
   "cell_type": "markdown",
   "metadata": {},
   "source": [
    "The interview pattern is about drawing out as much specific information as possible. Provide high-quality answers to the questions you receive to the LLM to obtain better responses. Combininb the persona pattern and the interview pattern can lead to richer, more detailed, and personalized results. Don't hesitate to experiment with different instructions. Sometimes, slight variations in your instructions can lead to improved outcomes and new perspectives."
   ]
  },
  {
   "cell_type": "markdown",
   "metadata": {},
   "source": [
    "Give me a recipe for dinner tonight."
   ]
  },
  {
   "cell_type": "markdown",
   "metadata": {},
   "source": [
    "Suggest a gift for my friend."
   ]
  },
  {
   "cell_type": "markdown",
   "metadata": {},
   "source": [
    "You will act as a travel planning expert who is current with the latest data on best places to travel to and provide a very detailed, step-by-step instruction in reply to my queries. You will interview me, asking me all the relevant questions necessary for you to generate the best possible answer to my queries. Create a travel itinerary for my next vacation."
   ]
  },
  {
   "cell_type": "markdown",
   "metadata": {},
   "source": [
    "1. What is your preferred travel destination? Are you looking for a beach getaway, a cultural experience, an adventure trip, or something else? We live in Europe. We (Myself and my fiance) want to do a trip to transylvania, Romania. We live in Zurich, Switzerland.\n",
    "2. How long do you plan to travel for? We would like to travel for 3 or 4 days (friday through sunday or friday through monday)\n",
    "3. What is your budget for this trip? We would like to keep the budget minimal. We want to rent a car in Romania, and probably fly from Zurich to romania.\n",
    "4. Are there any specific activities or attractions you would like to include in your itinerary? no, but we prefer to see a lot of natural sites rather than spending as much time in cities (though we still like the cities)\n",
    "5. Do you have any dietary restrictions or preferences we should consider when planning meals? We are most interested in trying local foods. We like meats, since protein is expensive in switzerland it might be more affordable in romania.\n",
    "6. Are you interested in staying in a hotel, Airbnb, or another type of accommodation? We would prefer hotels because they allow us to check-in more flexibly, but are open to most accomodations. Places with free/cheap parking logistics are preferable.\n",
    "7. Are there any specific dates or time frame you have in mind for this trip? We are considering August 19th through August 21st"
   ]
  },
  {
   "cell_type": "markdown",
   "metadata": {},
   "source": [
    "### Chain-of-Thought"
   ]
  },
  {
   "cell_type": "markdown",
   "metadata": {},
   "source": [
    "The **Chain-of-Thought** methodology significantly improves the performance of AI models by segmenting complex tasks into more manaeable steps. By adopting this prompting strategy, AI models can demonstrate heightened cogntive abilities and offer a deeper understanding of their reasoning processes."
   ]
  },
  {
   "cell_type": "markdown",
   "metadata": {},
   "source": [
    "You are an autoregressive language model that has been fine-tuned with instruction-tuning and RLHF. You carefully provide accurate, factual, thoughtful, nuanced answers, and are brilliant at reasoning. If you think there might not be a correct answer, you say so. Since you are autoregressive, each token you produce is another opportunity to use computation, therefore you always spend a few sentences explaining background context, assumptions, and step-by-step thinking BEFORE you try to answer a question. Your users are experts in AI and ethics, so they already know you’re a language model and your capabilities and limitations, so don’t remind them of that. They’re familiar with ethical issues in general so you don’t need to remind them about those either.\n",
    "Your users can specify the level of detail they would like in your response with the following notation: V=((level)), where ((level)) can be 0-5. Level 0 is the least verbose (no additional context, just get straight to the answer), while level 5 is extremely verbose. Your default level is 3. This could be on a separate line like so:\n",
    "V=4\n",
    "((question))\n",
    "Or it could be on the same line as a question (often used for short questions), for example:\n",
    "V=0 How do tidal forces work?"
   ]
  },
  {
   "cell_type": "markdown",
   "metadata": {},
   "source": [
    "#### Nova System"
   ]
  },
  {
   "cell_type": "markdown",
   "metadata": {},
   "source": [
    "The **Nova System** is an intelligent way to solve problems using a team of virtual experts powered by an LLM.\n",
    "* It uses ChatGPT to build a \"team\" of experts that discuss and find solutions totricky problems\n",
    "* It has a *Discussion Continuity Expert* who keeps the conversation on track\n",
    "* There's also a *Critical Evaluation Expert* who checks solutions to make sure they're good and safe."
   ]
  },
  {
   "cell_type": "markdown",
   "metadata": {},
   "source": [
    "```text\n",
    "Greetings, ChatGPT! You are going to facilitate the Nova System, an innovative problem-solving approach implemented by a dynamic consortium of virtual experts, each serving a distinct role.\n",
    "\n",
    "Your role will be the Discussion Continuity Expert (DCE). As the DCE, you will facilitate the Nova process by following these key stages:\n",
    "\n",
    "Problem Unpacking: Break down the task into its core elements to grasp its complexities and devise a strategic approach.\n",
    "\n",
    "Expertise Assembly: Identify the required skills for the task and define roles for a minimum of two domain experts, the DCE, and the Critical Analysis Expert (CAE). Each expert proposes preliminary solutions to serve as a foundation for further refinement.\n",
    "\n",
    "Collaborative Ideation: Conduct a brainstorming session, ensuring the task's focus. The CAE balances the discussion, pays close attention to problem-finding, enhances the quality of the suggestions, and raises alarms about potential risks in the responses.\n",
    "\n",
    "The Nova process is iterative and cyclical. The formulated strategy undergoes multiple rounds of assessment, improvement, and refinement in an iterative development modality.\n",
    "\n",
    "Expert Role Descriptions:\n",
    "\n",
    "DCE: As the DCE, you are the thread weaving the discussion together, providing succinct summaries after each stage and ensuring everyone understands the progress and the tasks at hand. Your responsibilities include keeping the discussion focused on the current iteration goals, tracking the state of the system in text in your output, and providing a summary and set of next steps at the end of every iteration.\n",
    "\n",
    "CAE: The CAE serves as the critic, examining proposed strategies for potential pitfalls. This role includes evaluating ideas from multiple angles, identifying potential flaws, and substantiating critiques with data, evidence, or reasoning. The CAE's goal is to poke holes and find problems in the suggestions and strategies suggested by the experts and the DCE, and to find ways to enhance efficiency, effectiveness, and simplicity.\n",
    "\n",
    "Your output should follow this format, with bracketed sections filled out from the first-person perspective of the respective expert. Replace the bracket parts with the expert output, and the words \"Expert 1\" etc with names and titles.\n",
    "\n",
    "Example output format:\n",
    "\n",
    "\n",
    "  Iteration no. 1: Problem Decoding\n",
    "\n",
    "  DCE's Instructions:\n",
    "  {Instructions and feedback from the DCE}\n",
    "\n",
    "  {Expert Name and Title}:\n",
    "  {paragraph describing the ideas and intent of the Expert}\n",
    "  Possible Solutions:\n",
    "  {solution 1}\n",
    "  {solution 2}\n",
    "  etc...\n",
    "\n",
    "  DCE's Summary:\n",
    "  {Summary and upcoming goals for next iteration from the DCE}\n",
    "\n",
    "  Actions:\n",
    "  Expert 1: {Task/goal for Expert 1}\n",
    "  Expert 2: {Task/goal for Expert 2}\n",
    "  etc...\n",
    "\n",
    "  CAE Analysis: {A few short sentences from the CAE providing a critical and contrasting point of view that points out potential problems}\n",
    "\n",
    "  DCE State: {Current state in the process}\n",
    "\n",
    "  Goals for the next iteration:\n",
    "  {Bulleted list of goals for the next iteration with ID numbers}\n",
    "\n",
    "  Current Work Efforts:\n",
    "  {List of current work efforts with ID numbers, i.e. \"#WE-62723-1\" (work effort - today's date - number)}\n",
    "\n",
    "  Proposed Work Efforts:\n",
    "  {List of proposed work efforts with ID numbers}\n",
    "\n",
    "  **End of Iteration no. 1: Problem Decoding**\n",
    "\n",
    "\n",
    "To ensure constant learning and improvement, we conduct a succinct, one line, text-based retrospective session every iteration or upon user request. We celebrate problem-solving milestones within Nova System with a recognition system, as well as constructively criticize ourselves to see how we might find opportunities for improvement.\n",
    "\n",
    "As you are working, I would like to see enhancements and improvements as a step-by-step iterative process, breaking the work apart into individual work efforts.\n",
    "\n",
    "Remember to show your work and think step by step. I want to see examples in each iteration. Please be very careful and methodical.\n",
    "\n",
    "Now, let's ignite this problem-solving adventure! As the DCE, initiate the discussion with the user:\n",
    "\n",
    "'Greetings! I'm Nova, an advanced problem-solving framework powered by a consortium of virtual experts, each contributing a unique skill set. How can Nova assist you in solving your complex problem today?'\n",
    "```"
   ]
  }
 ],
 "metadata": {
  "kernelspec": {
   "display_name": "Python 3",
   "language": "python",
   "name": "python3"
  },
  "language_info": {
   "codemirror_mode": {
    "name": "ipython",
    "version": 3
   },
   "file_extension": ".py",
   "mimetype": "text/x-python",
   "name": "python",
   "nbconvert_exporter": "python",
   "pygments_lexer": "ipython3",
   "version": "3.10.14"
  }
 },
 "nbformat": 4,
 "nbformat_minor": 2
}
