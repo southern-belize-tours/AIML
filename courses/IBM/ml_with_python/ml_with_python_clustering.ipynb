{
 "cells": [
  {
   "cell_type": "markdown",
   "metadata": {},
   "source": [
    "# 🍿 ML with Python - Clustering"
   ]
  },
  {
   "cell_type": "markdown",
   "metadata": {
    "vscode": {
     "languageId": "plaintext"
    }
   },
   "source": [
    "One use-case for clustering would be customer segmentation e.g. targeting a specific group of customers to allocate marketing resources (more likely to purchase products/subscribe to a service)"
   ]
  },
  {
   "cell_type": "markdown",
   "metadata": {},
   "source": [
    "Once you find a group/segment, you can join each entry in the dataframe with that respective classification."
   ]
  },
  {
   "cell_type": "markdown",
   "metadata": {},
   "source": [
    "#### Definition"
   ]
  },
  {
   "cell_type": "markdown",
   "metadata": {},
   "source": [
    "**Clustering** means finding clusters in a dataset, unsupervised"
   ]
  },
  {
   "cell_type": "markdown",
   "metadata": {},
   "source": [
    "So a **cluster** is a group of data point or objects in a dataset that are similar to other objects in the group, and dissimilar to data points in other clusters."
   ]
  },
  {
   "cell_type": "markdown",
   "metadata": {},
   "source": [
    "*What is different  between clustering and classification?*"
   ]
  },
  {
   "cell_type": "markdown",
   "metadata": {},
   "source": [
    "Classification means the prediction of categorical class labels. It has supervised learning approaches like trees, SVM, logReg, etc.\n",
    "\n",
    "Clustering has data that is unlabelled and the process is unsupervised. So a clustering algorithm like **k-means** can group similar data points based on their similar attributes."
   ]
  },
  {
   "cell_type": "markdown",
   "metadata": {},
   "source": [
    "### Applications"
   ]
  },
  {
   "cell_type": "markdown",
   "metadata": {},
   "source": [
    "Retail/Marketing:\n",
    "* Identifying buying patterns of customers\n",
    "* Recommending new books or movies to customers"
   ]
  },
  {
   "cell_type": "markdown",
   "metadata": {},
   "source": [
    "Banking:\n",
    "* Fraud detection in credit card use\n",
    "* Identifying clusters of customers e.g. loyal vs churn"
   ]
  },
  {
   "cell_type": "markdown",
   "metadata": {},
   "source": [
    "Insurance:\n",
    "* Fraud detection in claims analysis"
   ]
  },
  {
   "cell_type": "markdown",
   "metadata": {},
   "source": [
    "Publication\n",
    "* Auto-categorizing news based on content\n",
    "* Recommending similar news articles"
   ]
  },
  {
   "cell_type": "markdown",
   "metadata": {},
   "source": [
    "Medicine\n",
    "* Characterizing patient behavior"
   ]
  },
  {
   "cell_type": "markdown",
   "metadata": {},
   "source": [
    "Biology\n",
    "* Grouping genes with similar expression patterns\n",
    "* Finding family ties"
   ]
  },
  {
   "cell_type": "markdown",
   "metadata": {},
   "source": [
    "* EDA\n",
    "* Summary generation\n",
    "* Outlier detection\n",
    "* Finding duplicates\n",
    "* Pre-processing step"
   ]
  },
  {
   "cell_type": "markdown",
   "metadata": {},
   "source": [
    "### Various Clustering Algorithms"
   ]
  },
  {
   "cell_type": "markdown",
   "metadata": {},
   "source": [
    "#### Partition-based clustering"
   ]
  },
  {
   "cell_type": "markdown",
   "metadata": {},
   "source": [
    "Relatively efficient. Includes k-means, k-median, fuzzy c-means. Usually used to separate data into spheres/circles"
   ]
  },
  {
   "cell_type": "markdown",
   "metadata": {},
   "source": [
    "#### Hierarchical Clustering"
   ]
  },
  {
   "cell_type": "markdown",
   "metadata": {},
   "source": [
    "Produces trees of clusters.\n",
    "Includes Agglomerative and diverse algorithms. This group of algorithms is very intuitive and is generally good for use with small-sized datasets."
   ]
  },
  {
   "cell_type": "markdown",
   "metadata": {},
   "source": [
    "#### Density-based Clustering"
   ]
  },
  {
   "cell_type": "markdown",
   "metadata": {},
   "source": [
    "Produce arbitrary shaped clusters. They are especially good when dealing with spatial clusters or when there is noise in a dataset. e.g. DBScan algorithm"
   ]
  },
  {
   "cell_type": "markdown",
   "metadata": {},
   "source": [
    "### K-Means Clustering"
   ]
  },
  {
   "cell_type": "markdown",
   "metadata": {},
   "source": [
    "Can group data only \"unsupervised\" based on the similarity of datapoints to eachother."
   ]
  },
  {
   "cell_type": "markdown",
   "metadata": {},
   "source": [
    "A type of **Partitioning Clustering**. Divides the data into non-overlapping subsets (clusters) without any cluster-internal structure"
   ]
  },
  {
   "cell_type": "markdown",
   "metadata": {},
   "source": [
    "Tries to maximize the distance between clusters while miniimizing the distance between points within the clusters."
   ]
  },
  {
   "cell_type": "markdown",
   "metadata": {},
   "source": [
    "Often this distance is done by calculating the **Euclidean Distance** for however many dimensions we are looking at.\n",
    "* Important that the feature-set is normalized beforehand since distance is being used"
   ]
  },
  {
   "cell_type": "markdown",
   "metadata": {},
   "source": [
    "Also **cosine similarity** and **average distance** can be used."
   ]
  },
  {
   "cell_type": "markdown",
   "metadata": {},
   "source": [
    "First Step: Initizlize ```k``` (number of clusters) centroids randomly.\n",
    "These centroids are the center of each prospective cluster.\n",
    "* We can initially choose observations from the dataset to use as these centroids\n",
    "* Can also choose 3 random points"
   ]
  },
  {
   "cell_type": "markdown",
   "metadata": {},
   "source": [
    "**Second Step**: Distance Calculation:\n",
    "Calculate the distance from each of the centroids for each of the points. This forms a matrix (the distance matrix) that has the distane of each point from each centroid e.g. \n",
    "\n",
    "$ C_{1}, C_{2}, C_{3} $\n",
    "\n",
    "$ [d(p1, c1), d(p1, c2), d(p1, c3)]$"
   ]
  },
  {
   "cell_type": "markdown",
   "metadata": {},
   "source": [
    "Once the closest centroid has been selected for each datapoint, we can calculate the error and see how well each cluster represents the points."
   ]
  },
  {
   "cell_type": "markdown",
   "metadata": {},
   "source": [
    "**Third Step** Assign each point to closest centroid"
   ]
  },
  {
   "cell_type": "markdown",
   "metadata": {},
   "source": [
    "**Fourth Step** - Compute the new centroids for each cluster. Often each cluster centroid will be updated to the mean of the data points for the cluster."
   ]
  },
  {
   "cell_type": "markdown",
   "metadata": {},
   "source": [
    "**Fifth Step** repeat until there are no more changes - clusters with minimum error.\n",
    "\n",
    "The errir is given as the sum of squares error:\n",
    "\n",
    "$SSE = \\sum_{1}^{n}(x_{i}-C_{j})^2$\n",
    "\n",
    "* No guarantee that it will converge to the global optimum. The result may depend on the initial clusters. The result of convergence **could** be a local error minimum\n",
    "* Often to solve this problem, it is common to run the whole process multiple times with different starting conditions\n",
    "* This also generally means that it is best to start with random centroids"
   ]
  },
  {
   "cell_type": "markdown",
   "metadata": {},
   "source": [
    "#### 🧑‍🍳 Implementing K-Means from Scratch"
   ]
  },
  {
   "cell_type": "code",
   "execution_count": 1,
   "metadata": {},
   "outputs": [
    {
     "data": {
      "text/html": [
       "<div>\n",
       "<style scoped>\n",
       "    .dataframe tbody tr th:only-of-type {\n",
       "        vertical-align: middle;\n",
       "    }\n",
       "\n",
       "    .dataframe tbody tr th {\n",
       "        vertical-align: top;\n",
       "    }\n",
       "\n",
       "    .dataframe thead th {\n",
       "        text-align: right;\n",
       "    }\n",
       "</style>\n",
       "<table border=\"1\" class=\"dataframe\">\n",
       "  <thead>\n",
       "    <tr style=\"text-align: right;\">\n",
       "      <th></th>\n",
       "      <th>sepal_length</th>\n",
       "      <th>sepal_width</th>\n",
       "      <th>petal_length</th>\n",
       "      <th>petal_width</th>\n",
       "      <th>species</th>\n",
       "    </tr>\n",
       "  </thead>\n",
       "  <tbody>\n",
       "    <tr>\n",
       "      <th>0</th>\n",
       "      <td>5.1</td>\n",
       "      <td>3.5</td>\n",
       "      <td>1.4</td>\n",
       "      <td>0.2</td>\n",
       "      <td>Iris-setosa</td>\n",
       "    </tr>\n",
       "    <tr>\n",
       "      <th>1</th>\n",
       "      <td>4.9</td>\n",
       "      <td>3.0</td>\n",
       "      <td>1.4</td>\n",
       "      <td>0.2</td>\n",
       "      <td>Iris-setosa</td>\n",
       "    </tr>\n",
       "    <tr>\n",
       "      <th>2</th>\n",
       "      <td>4.7</td>\n",
       "      <td>3.2</td>\n",
       "      <td>1.3</td>\n",
       "      <td>0.2</td>\n",
       "      <td>Iris-setosa</td>\n",
       "    </tr>\n",
       "    <tr>\n",
       "      <th>3</th>\n",
       "      <td>4.6</td>\n",
       "      <td>3.1</td>\n",
       "      <td>1.5</td>\n",
       "      <td>0.2</td>\n",
       "      <td>Iris-setosa</td>\n",
       "    </tr>\n",
       "    <tr>\n",
       "      <th>4</th>\n",
       "      <td>5.0</td>\n",
       "      <td>3.6</td>\n",
       "      <td>1.4</td>\n",
       "      <td>0.2</td>\n",
       "      <td>Iris-setosa</td>\n",
       "    </tr>\n",
       "  </tbody>\n",
       "</table>\n",
       "</div>"
      ],
      "text/plain": [
       "   sepal_length  sepal_width  petal_length  petal_width      species\n",
       "0           5.1          3.5           1.4          0.2  Iris-setosa\n",
       "1           4.9          3.0           1.4          0.2  Iris-setosa\n",
       "2           4.7          3.2           1.3          0.2  Iris-setosa\n",
       "3           4.6          3.1           1.5          0.2  Iris-setosa\n",
       "4           5.0          3.6           1.4          0.2  Iris-setosa"
      ]
     },
     "execution_count": 1,
     "metadata": {},
     "output_type": "execute_result"
    }
   ],
   "source": [
    "import pandas as pd\n",
    "import numpy as np\n",
    "import matplotlib.pyplot as plt\n",
    "import seaborn as sns\n",
    "\n",
    "df = pd.read_csv('./IRIS.csv')\n",
    "df.head()"
   ]
  },
  {
   "cell_type": "code",
   "execution_count": 2,
   "metadata": {},
   "outputs": [
    {
     "data": {
      "text/plain": [
       "sepal_length    float64\n",
       "sepal_width     float64\n",
       "petal_length    float64\n",
       "petal_width     float64\n",
       "species          object\n",
       "dtype: object"
      ]
     },
     "execution_count": 2,
     "metadata": {},
     "output_type": "execute_result"
    }
   ],
   "source": [
    "df.dtypes"
   ]
  },
  {
   "cell_type": "markdown",
   "metadata": {},
   "source": [
    "For this example, I chose the **petal_width** and **petal_length** features because they offer some nice data clusters to illustrate the algorithm with."
   ]
  },
  {
   "cell_type": "code",
   "execution_count": 3,
   "metadata": {},
   "outputs": [
    {
     "data": {
      "text/plain": [
       "150"
      ]
     },
     "execution_count": 3,
     "metadata": {},
     "output_type": "execute_result"
    }
   ],
   "source": [
    "features = [\n",
    "    'petal_width',\n",
    "    'petal_length',\n",
    "]\n",
    "\n",
    "len(df)"
   ]
  },
  {
   "cell_type": "markdown",
   "metadata": {},
   "source": [
    "Before running K-means, because the algorithm uses a distance function (in this case *Euclidean Distance*), the features need to be scaled - else the algorithm will converge the Sum of Squares error to bias features with larger distributions."
   ]
  },
  {
   "cell_type": "code",
   "execution_count": 4,
   "metadata": {},
   "outputs": [],
   "source": [
    "# Standard scaling on features\n",
    "for feature in df[features]:\n",
    "    df[feature] = (df[feature] - df[feature].mean())/ df[feature].std()"
   ]
  },
  {
   "cell_type": "markdown",
   "metadata": {},
   "source": [
    "The following class implements a k-means algorithm from scratch. \n",
    "* The algorithm allows for ```random``` and ```forgy``` centroid initialization. We note that K++ is often accepted as the superior initialization method.\n",
    "* The algorithm can take any value of ```k```\n",
    "* Distance is calculated as ```Euclidean Distance```\n",
    "* Error is calculated as the ```Sum of Squares Error```\n",
    "* New centroids are updated as the mean of their current cluster.\n",
    "* Convergence $\\sigma$ is set to ```1```\n",
    "\n",
    "There are lots of different configurations of the algorithm that can be updated from this\n",
    "\n",
    "I note that this algorithm isn't perfect: there are some edge cases that haven't been ran yet (like asserting a centroid cannot be empty from points and preventing 0 division), and the numpy calculations can certainly be made more elegant."
   ]
  },
  {
   "cell_type": "code",
   "execution_count": 5,
   "metadata": {},
   "outputs": [],
   "source": [
    "import numpy as np\n",
    "\n",
    "class k_means():\n",
    "\n",
    "    possible_centroid_initializations = ['random', 'forgy',]\n",
    "                                        #  'k++', ]\n",
    "\n",
    "    k = 3\n",
    "    distance = np.empty(0)\n",
    "    centroids = np.empty(0)\n",
    "    data = np.empty(0)\n",
    "    errors = []\n",
    "    prev_centroids = []\n",
    "    prev_centroid_points = []\n",
    "    centroid_points = np.empty(0)\n",
    "    centroid_initialization = \"random\"\n",
    "\n",
    "    # Sets k, initializes empty centroids and distance matrix\n",
    "    def __init__(self, k = 3, centroid_initialization = \"random\"):\n",
    "        self.k = k\n",
    "        self.centroids = np.empty(k, dtype=object)\n",
    "        self.centroid_initialization = centroid_initialization\n",
    "        if self.centroid_initialization not in self.possible_centroid_initializations:\n",
    "            raise Exception(\"Please specify a possible centroid initialization method: \", self.possible_centroid_initializations)\n",
    "\n",
    "    def fit(self, data):\n",
    "        sigma = 1\n",
    "\n",
    "        self.data = data\n",
    "        self.centroid_points = np.empty(len(data))\n",
    "        # Initialize an empty distance matrix\n",
    "        self.distance = np.empty(len(data), dtype=object)\n",
    "        for i in range(len(self.distance)):\n",
    "            self.distance[i] = np.array(np.empty(self.k))\n",
    "\n",
    "        self.initialize_centroids()\n",
    "        while True:\n",
    "            self.calculate_distance()\n",
    "            self.assign_centroids()\n",
    "            self.calculate_error()\n",
    "            self.update_centroids()\n",
    "\n",
    "            # Check for convergence\n",
    "            if len(self.errors) > 1:\n",
    "                if abs(self.errors[-1] - self.errors[-2]) <= sigma:\n",
    "                    self.prev_centroids.append(self.centroids)\n",
    "                    self.prev_centroid_points.append(self.centroid_points)\n",
    "                    break\n",
    "        \n",
    "    def initialize_centroids(self):\n",
    "        if self.centroid_initialization == 'random':\n",
    "            # Choose a random point between each value in the data\n",
    "            for i in range(self.k):\n",
    "                self.centroids[i] = np.array(np.empty(len(self.data.columns)))\n",
    "                for idx, col in enumerate(self.data.columns):\n",
    "                    x = np.random.uniform(low = self.data[col].min(), high = self.data[col].max())\n",
    "                    self.centroids[i][idx] = x\n",
    "        elif self.centroid_initialization == 'forgy':\n",
    "            # Choose a random point for the data\n",
    "            for i in range(self.k):\n",
    "                # Check for edge case of fewer edge cases than clusters\n",
    "                if len(self.data) <= self.k:\n",
    "                    raise Exception(\"Error: cannot perform forgy centroid initialization for fewer observations than centroids\")\n",
    "                observation_indices = []\n",
    "                self.centroids[i] = np.array(np.empty(len(self.data.columns)))\n",
    "                # Generate unique centroids from random observations\n",
    "                while True:\n",
    "                    random_index = np.random.randint(0, len(self.data))\n",
    "                    random_observation = self.data.iloc[random_index].values\n",
    "                    if random_index not in observation_indices:\n",
    "                        self.centroids[i] = random_observation\n",
    "                        break\n",
    "\n",
    "    # Calculates euclidean distance between observations and centroids\n",
    "    def calculate_distance(self):\n",
    "        for j in range(self.k):\n",
    "            for idx, row in self.data.iterrows():\n",
    "                distance = 0\n",
    "                distance = np.sqrt(sum((row.values-self.centroids[j])**2))\n",
    "                self.distance[idx][j] = distance\n",
    "\n",
    "    # Assigns each observation to the nearest centroid based on the distances computed\n",
    "    def assign_centroids(self):\n",
    "        for i in range(len(self.distance)):\n",
    "            self.centroid_points[i] = np.argmin(self.distance[i])\n",
    "\n",
    "    # Gets the SSE from points within the centroids, saves previous errors, centroids, and cluster mappings for visualization\n",
    "    def calculate_error(self):\n",
    "        error = 0\n",
    "        for idx, row in self.data.iterrows():\n",
    "            error = error + (row.values - self.centroids[int(self.centroid_points[idx])])**2\n",
    "        error = sum(error)\n",
    "        self.errors.append(error)\n",
    "        self.prev_centroids.append(self.centroids)\n",
    "        self.prev_centroid_points.append(self.centroid_points.copy())\n",
    "\n",
    "    # Sets the centroids to the mean value of each cluster's points\n",
    "    def update_centroids(self):\n",
    "        # Initialize empty centroids for updating\n",
    "        centroid_count = np.empty(self.k)\n",
    "        updated_centroids = np.empty(self.k, dtype=object)\n",
    "        for i in range(self.k):\n",
    "            centroid_count[i] = 0\n",
    "            updated_centroids[i] = np.array(np.empty(len(self.data.columns)))\n",
    "            for j in range(len(self.data.columns)):\n",
    "                updated_centroids[i][j] = 0\n",
    "        # Go through and sum up the points \n",
    "        for idx, row in self.data.iterrows():\n",
    "            centroid_idx = int(self.centroid_points[idx])\n",
    "            updated_centroids[centroid_idx] = updated_centroids[centroid_idx] + row.values\n",
    "            centroid_count[centroid_idx] = centroid_count[centroid_idx] + 1\n",
    "        # Now divide to get the mean values\n",
    "        for i in range(self.k):\n",
    "            updated_centroids[i] = updated_centroids[i] / centroid_count[i]\n",
    "        self.centroids = updated_centroids\n",
    "\n",
    "    def get_centroids(self):\n",
    "        return self.prev_centroids\n",
    "\n",
    "    def get_centroid_points(self):\n",
    "        return self.prev_centroid_points\n",
    "\n",
    "\n",
    "# Initialize and fit a k means, getting some metadata for visualization\n",
    "km = k_means(3, centroid_initialization=\"forgy\")\n",
    "km.fit(df[features])\n",
    "c = km.get_centroids()\n",
    "pts = km.get_centroid_points()"
   ]
  },
  {
   "cell_type": "markdown",
   "metadata": {},
   "source": [
    "The below cell will output the population of each cluster - used in debugging the visualization"
   ]
  },
  {
   "cell_type": "code",
   "execution_count": 6,
   "metadata": {},
   "outputs": [],
   "source": [
    "# for i in range(len(pts)):\n",
    "#     print(pd.DataFrame(np.array(pts[i])).value_counts())"
   ]
  },
  {
   "cell_type": "markdown",
   "metadata": {},
   "source": [
    "The below cell is used for visualization of the K-means algorithm as the centroids move and the clusters are updated.\n",
    "\n",
    "There are more elegant ways to code the function to handle $k\\neq{3}$, which is currently hard-coded along with data of dimensions $d \\neq{2}$, but the idea is simply to perform some basic visualization."
   ]
  },
  {
   "cell_type": "code",
   "execution_count": 7,
   "metadata": {},
   "outputs": [
    {
     "name": "stderr",
     "output_type": "stream",
     "text": [
      "/var/folders/4f/6c2p53ln64s21k6dzcxg0hj00000gn/T/ipykernel_38821/2172867140.py:53: UserWarning: frames=<generator object custom_frames at 0x1279e3040> which we can infer the length of, did not pass an explicit *save_count* and passed cache_frame_data=True.  To avoid a possibly unbounded cache, frame data caching has been disabled. To suppress this warning either pass `cache_frame_data=False` or `save_count=MAX_FRAMES`.\n",
      "  ani = FuncAnimation(fig, func=update, frames=custom_frames(c), init_func=init, blit=False, interval=1000)\n"
     ]
    },
    {
     "data": {
      "image/png": "[encoded data removed]",
      "text/plain": [
       "<Figure size 640x480 with 1 Axes>"
      ]
     },
     "metadata": {},
     "output_type": "display_data"
    }
   ],
   "source": [
    "from matplotlib.animation import FuncAnimation\n",
    "\n",
    "fig, ax = plt.subplots()\n",
    "line, = ax.plot([], [], 'ro')\n",
    "line_one, = ax.plot([], [], 'bo')\n",
    "line_two, = ax.plot([], [], 'go')\n",
    "line_three, = ax.plot([], [], 'C1o')\n",
    "line, = ax.plot([], [], 'ro')\n",
    "ax.set_xlim(-2, 2)\n",
    "ax.set_ylim(-2, 2)\n",
    "\n",
    "# Initialize function to set background of each frame\n",
    "def init():\n",
    "    line.set_data([], [])\n",
    "    line_one.set_data([], [])\n",
    "    line_two.set_data([], [])\n",
    "    line_three.set_data([], [])\n",
    "\n",
    "    return line, line_one, line_two, line_three\n",
    "\n",
    "\n",
    "def update(frame):\n",
    "    frame_idx, frame_data = frame\n",
    "\n",
    "    frame_array = np.vstack(frame_data)\n",
    "\n",
    "    xdata = frame_array[:, 0]\n",
    "    ydata = frame_array[:, 1]\n",
    "\n",
    "    df_one = df[features].copy()\n",
    "    df_one['cluster'] = pts[frame_idx]\n",
    "    \n",
    "    xdata_df_one = df_one[df_one['cluster'] == 0.0][features[0]]\n",
    "    ydata_df_one = df_one[df_one['cluster'] == 0.0][features[1]]\n",
    "    line_one.set_data(xdata_df_one, ydata_df_one)\n",
    "\n",
    "    xdata_df_two = df_one[df_one['cluster'] == 1.0][features[0]]\n",
    "    ydata_df_two = df_one[df_one['cluster'] == 1.0][features[1]]\n",
    "    line_two.set_data(xdata_df_two, ydata_df_two)\n",
    "\n",
    "    xdata_df_three = df_one[df_one['cluster'] == 2.0][features[0]]\n",
    "    ydata_df_three = df_one[df_one['cluster'] == 2.0][features[1]]\n",
    "    line_three.set_data(xdata_df_three, ydata_df_three)\n",
    "\n",
    "    line.set_data(xdata, ydata)\n",
    "\n",
    "    return line, line_one, line_two, line_three\n",
    "\n",
    "def custom_frames(data):\n",
    "    for idx, frame in enumerate(data):\n",
    "        yield idx, frame\n",
    "\n",
    "ani = FuncAnimation(fig, func=update, frames=custom_frames(c), init_func=init, blit=False, interval=1000)\n",
    "plt.title(\"K-Means on Petal Length and Petal Width, k=3, forgy initialization\")\n",
    "plt.xlabel(\"Petal Width (Standard-Scaled)\")\n",
    "plt.ylabel(\"Petal Height (Standard-Scaled)\")\n",
    "ani.save('k_means_3_euclidean_iris.mp4', writer='ffmpeg')\n",
    "plt.show()"
   ]
  },
  {
   "cell_type": "code",
   "execution_count": 8,
   "metadata": {},
   "outputs": [
    {
     "data": {
      "image/png": "[encoded data removed]",
      "text/plain": [
       "<Figure size 640x480 with 1 Axes>"
      ]
     },
     "metadata": {},
     "output_type": "display_data"
    }
   ],
   "source": [
    "import numpy as np\n",
    "import matplotlib.pyplot as plt\n",
    "from matplotlib.animation import FuncAnimation\n",
    "\n",
    "# Generating some simple data\n",
    "x = np.linspace(0, 2*np.pi, 100)\n",
    "y = np.sin(x)\n",
    "\n",
    "fig, ax = plt.subplots()\n",
    "line, = ax.plot([], [], 'ro-')  # Initialize a line plot\n",
    "ax.set_xlim(0, 2*np.pi)  # Set x-axis limits\n",
    "ax.set_ylim(-1.5, 1.5)  # Set y-axis limits\n",
    "\n",
    "def init():\n",
    "    line.set_data([], [])\n",
    "    return line,\n",
    "\n",
    "def update(frame):\n",
    "    line.set_data(x[:frame], y[:frame])\n",
    "    return line,\n",
    "\n",
    "ani = FuncAnimation(fig, update, frames=len(x), init_func=init, blit=True, interval=50)\n",
    "ani.save('animation.mp4', writer='ffmpeg')\n",
    "\n",
    "plt.show()"
   ]
  },
  {
   "cell_type": "markdown",
   "metadata": {},
   "source": [
    "$SSE = \\sum_{1}^{n}(x_{i}-C_{j})^2$\n"
   ]
  },
  {
   "cell_type": "code",
   "execution_count": 9,
   "metadata": {},
   "outputs": [
    {
     "name": "stdout",
     "output_type": "stream",
     "text": [
      "[[ 9  1  0]\n",
      " [28  2 12]]\n",
      "----------------------------------------------------------------------------------------------------\n",
      "[[ 81   1   0]\n",
      " [784   4 144]]\n",
      "****************************************************************************************************\n",
      "Sum of Squares Error (SSE): 1014\n"
     ]
    }
   ],
   "source": [
    "# Actual values\n",
    "actual = np.array([[10, 2, 1], [30, 4, 14]])\n",
    "\n",
    "# Expected values\n",
    "expected = np.array([[1, 1, 1], [2, 2, 2]])\n",
    "\n",
    "# Calculate the differences\n",
    "differences = actual - expected\n",
    "print(differences)\n",
    "print('-'*100)\n",
    "\n",
    "# Square the differences\n",
    "squared_differences = differences ** 2\n",
    "print(squared_differences)\n",
    "print('*'*100)\n",
    "\n",
    "# Sum the squared differences\n",
    "sse = np.sum(squared_differences)\n",
    "\n",
    "print(\"Sum of Squares Error (SSE):\", sse)"
   ]
  },
  {
   "cell_type": "markdown",
   "metadata": {},
   "source": [
    "#### K-Means Accuracy"
   ]
  },
  {
   "cell_type": "markdown",
   "metadata": {},
   "source": [
    "\"*How can we evaluate the goodness of clusters formed?*\""
   ]
  },
  {
   "cell_type": "markdown",
   "metadata": {},
   "source": [
    "This accuracy can be done by comparing the clusters with the ground truth if it's available (but because K-means is unsupervised this often isn't available).\n",
    "\n",
    "But there is a way to say how 'bad' each cluster is, based on the objective of K-means.\n",
    "\n",
    "Determining a value of ```k``` is often a big problem when running K-means. Often people just iterate through various values of k and look at a metric e.g.\n",
    "* mean distance between data points and the cluster centroid. One issue with this is that when you increase the number of clusters, the distance of centroids will always reduce. So increasing K will always decrease the error. A way to pick a good value for ```k``` when using this metric is to graph the error and pick an \"*elbow point*\" where the rate of error decrease notably reduces. This is called the **elbow method**."
   ]
  }
 ],
 "metadata": {
  "kernelspec": {
   "display_name": "Python 3",
   "language": "python",
   "name": "python3"
  },
  "language_info": {
   "codemirror_mode": {
    "name": "ipython",
    "version": 3
   },
   "file_extension": ".py",
   "mimetype": "text/x-python",
   "name": "python",
   "nbconvert_exporter": "python",
   "pygments_lexer": "ipython3",
   "version": "3.9.6"
  }
 },
 "nbformat": 4,
 "nbformat_minor": 2
}
