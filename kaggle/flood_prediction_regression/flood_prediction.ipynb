{
 "cells": [
  {
   "cell_type": "markdown",
   "metadata": {},
   "source": [
    "# 💧 Flood Prediction Regression"
   ]
  },
  {
   "cell_type": "markdown",
   "metadata": {},
   "source": [
    "All work performed here was done independently by **Ian Feekes**. You can find me on:\n",
    "* 🪿[Kaggle](https://www.kaggle.com/ifeekes)\n",
    "* 🙋‍♂️ [Linkedin](https://linkedin.com/in/ianfeekes)\n",
    "* 💻 [Github](github.com/southern-belize-tours)"
   ]
  },
  {
   "cell_type": "markdown",
   "metadata": {},
   "source": [
    "If you find this work useful, please take the chance to upvote it ✅ which would meaningfully impact my career."
   ]
  },
  {
   "cell_type": "markdown",
   "metadata": {},
   "source": [
    "## ℹ️ About this Dataset"
   ]
  },
  {
   "cell_type": "markdown",
   "metadata": {},
   "source": [
    "This dataset was taken from the [playground series in kaggle](https://www.kaggle.com/competitions/playground-series-s4e5/data).\n",
    "\n",
    "It can also be downloaded locally via the API command:\n",
    "```sh\n",
    "kaggle competitions download -c playground-series-s4e5\n",
    "unzip playground-series-s4e5.zip\n",
    "```"
   ]
  },
  {
   "cell_type": "markdown",
   "metadata": {},
   "source": [
    "The [overview page](https://www.kaggle.com/competitions/playground-series-s4e5/overview) of the kaggle competition mentions that the data is synthetic. Under the [discussions page](https://www.kaggle.com/competitions/playground-series-s4e5/discussion/487134), the creator (Ashley Chow) cites [the original dataset](https://www.kaggle.com/datasets/brijlaldhankour/flood-prediction-factors), which can also be downloaded via the API command:\n",
    "\n",
    "```sh\n",
    "kaggle datasets download -d brijlaldhankour/flood-prediction-factors\n",
    "unzip flood-prediction-factors.zip\n",
    "```"
   ]
  },
  {
   "cell_type": "markdown",
   "metadata": {},
   "source": [
    "The original dataset was based on data gathered in **india** ([📎 link](https://www.kaggle.com/datasets/brijlaldhankour/flood-prediction-factors/discussion/464043))"
   ]
  },
  {
   "cell_type": "markdown",
   "metadata": {},
   "source": [
    "## ⚙️ Initial Configuration"
   ]
  },
  {
   "cell_type": "code",
   "execution_count": 393,
   "metadata": {},
   "outputs": [],
   "source": [
    "# Visualization\n",
    "import matplotlib.pyplot as plt\n",
    "import seaborn as sns\n",
    "\n",
    "# Math and Statistics\n",
    "import numpy as np\n",
    "import pandas as pd\n",
    "from scipy.stats import zscore\n",
    "\n",
    "# Machine Learning\n",
    "from sklearn.ensemble import GradientBoostingRegressor"
   ]
  },
  {
   "cell_type": "markdown",
   "metadata": {},
   "source": [
    "## Reading in the Data"
   ]
  },
  {
   "cell_type": "markdown",
   "metadata": {},
   "source": [
    "The below cell gets the data from a csv file into a pandas dataframe. There are **22** features and **1.1 million** rows."
   ]
  },
  {
   "cell_type": "code",
   "execution_count": 365,
   "metadata": {},
   "outputs": [
    {
     "data": {
      "text/plain": [
       "(1117957, 22)"
      ]
     },
     "execution_count": 365,
     "metadata": {},
     "output_type": "execute_result"
    }
   ],
   "source": [
    "df = pd.read_csv('train.csv')\n",
    "df.shape"
   ]
  },
  {
   "cell_type": "markdown",
   "metadata": {},
   "source": [
    "You get another $200,000$ data points through incorporating the original data."
   ]
  },
  {
   "cell_type": "code",
   "execution_count": 366,
   "metadata": {},
   "outputs": [
    {
     "data": {
      "text/plain": [
       "(1167957, 22)"
      ]
     },
     "execution_count": 366,
     "metadata": {},
     "output_type": "execute_result"
    }
   ],
   "source": [
    "df_original = pd.read_csv('flood.csv')\n",
    "\n",
    "assert(df_original.isna().sum().sum()==0)\n",
    "assert(df_original.columns==df.drop('id', axis=1).columns).sum() == len(df_original.columns)\n",
    "\n",
    "df = pd.concat([df, df_original])\n",
    "df.shape"
   ]
  },
  {
   "cell_type": "markdown",
   "metadata": {},
   "source": [
    "## EDA"
   ]
  },
  {
   "cell_type": "markdown",
   "metadata": {},
   "source": [
    "### General"
   ]
  },
  {
   "cell_type": "markdown",
   "metadata": {},
   "source": [
    "While this doesn't necessarily mean there aren't any null values in the form of imputed incorrect entries, empty quotes, etc. there are no ```'NaN'``` values."
   ]
  },
  {
   "cell_type": "code",
   "execution_count": 367,
   "metadata": {},
   "outputs": [
    {
     "name": "stdout",
     "output_type": "stream",
     "text": [
      "There are 50000 na values\n"
     ]
    }
   ],
   "source": [
    "print(\"There are\", df.isna().sum().sum(), \"na values\")"
   ]
  },
  {
   "cell_type": "markdown",
   "metadata": {},
   "source": [
    "There are plenty of features to look at, with some room for feature engineering."
   ]
  },
  {
   "cell_type": "code",
   "execution_count": 368,
   "metadata": {},
   "outputs": [
    {
     "data": {
      "text/plain": [
       "Index(['id', 'MonsoonIntensity', 'TopographyDrainage', 'RiverManagement',\n",
       "       'Deforestation', 'Urbanization', 'ClimateChange', 'DamsQuality',\n",
       "       'Siltation', 'AgriculturalPractices', 'Encroachments',\n",
       "       'IneffectiveDisasterPreparedness', 'DrainageSystems',\n",
       "       'CoastalVulnerability', 'Landslides', 'Watersheds',\n",
       "       'DeterioratingInfrastructure', 'PopulationScore', 'WetlandLoss',\n",
       "       'InadequatePlanning', 'PoliticalFactors', 'FloodProbability'],\n",
       "      dtype='object')"
      ]
     },
     "execution_count": 368,
     "metadata": {},
     "output_type": "execute_result"
    }
   ],
   "source": [
    "df.columns"
   ]
  },
  {
   "cell_type": "markdown",
   "metadata": {},
   "source": [
    "It looks like all of the features are **integer** data values and the **flood probability** (target variable) is a float, one would assume between 0 and 1."
   ]
  },
  {
   "cell_type": "code",
   "execution_count": 369,
   "metadata": {},
   "outputs": [
    {
     "data": {
      "text/plain": [
       "id                                 float64\n",
       "MonsoonIntensity                     int64\n",
       "TopographyDrainage                   int64\n",
       "RiverManagement                      int64\n",
       "Deforestation                        int64\n",
       "Urbanization                         int64\n",
       "ClimateChange                        int64\n",
       "DamsQuality                          int64\n",
       "Siltation                            int64\n",
       "AgriculturalPractices                int64\n",
       "Encroachments                        int64\n",
       "IneffectiveDisasterPreparedness      int64\n",
       "DrainageSystems                      int64\n",
       "CoastalVulnerability                 int64\n",
       "Landslides                           int64\n",
       "Watersheds                           int64\n",
       "DeterioratingInfrastructure          int64\n",
       "PopulationScore                      int64\n",
       "WetlandLoss                          int64\n",
       "InadequatePlanning                   int64\n",
       "PoliticalFactors                     int64\n",
       "FloodProbability                   float64\n",
       "dtype: object"
      ]
     },
     "execution_count": 369,
     "metadata": {},
     "output_type": "execute_result"
    }
   ],
   "source": [
    "df.dtypes"
   ]
  },
  {
   "cell_type": "markdown",
   "metadata": {},
   "source": [
    "Basic Observations:\n",
    "* It looks like the **id** is simply an index.\n",
    "* On first glance, it seems that the features appear to have a notable left-skew - varying in values from min of ```0``` to max of ```16```, ```17```, or ```18``` nearly all with means of ```4.9```. In fact the data appears to potentially have been normalized or created from the same scale. It is very likely that machine learning algorithms trained on this data would benefit from it having been **log transformed** as part of the data cleaning pipeline.\n",
    "* Looks like the **Flood Probability** varies between a min of ```0.285``` and a max of ```0.725```. It has a mean of ```0.5``` and is slightly (but less significantly than the features) left-skewed as well. It is possible the target would benefit ML algorithms if transformed **min-max** scaler."
   ]
  },
  {
   "cell_type": "code",
   "execution_count": 370,
   "metadata": {},
   "outputs": [
    {
     "data": {
      "text/html": [
       "<div>\n",
       "<style scoped>\n",
       "    .dataframe tbody tr th:only-of-type {\n",
       "        vertical-align: middle;\n",
       "    }\n",
       "\n",
       "    .dataframe tbody tr th {\n",
       "        vertical-align: top;\n",
       "    }\n",
       "\n",
       "    .dataframe thead th {\n",
       "        text-align: right;\n",
       "    }\n",
       "</style>\n",
       "<table border=\"1\" class=\"dataframe\">\n",
       "  <thead>\n",
       "    <tr style=\"text-align: right;\">\n",
       "      <th></th>\n",
       "      <th>id</th>\n",
       "      <th>MonsoonIntensity</th>\n",
       "      <th>TopographyDrainage</th>\n",
       "      <th>RiverManagement</th>\n",
       "      <th>Deforestation</th>\n",
       "      <th>Urbanization</th>\n",
       "      <th>ClimateChange</th>\n",
       "      <th>DamsQuality</th>\n",
       "      <th>Siltation</th>\n",
       "      <th>AgriculturalPractices</th>\n",
       "      <th>...</th>\n",
       "      <th>DrainageSystems</th>\n",
       "      <th>CoastalVulnerability</th>\n",
       "      <th>Landslides</th>\n",
       "      <th>Watersheds</th>\n",
       "      <th>DeterioratingInfrastructure</th>\n",
       "      <th>PopulationScore</th>\n",
       "      <th>WetlandLoss</th>\n",
       "      <th>InadequatePlanning</th>\n",
       "      <th>PoliticalFactors</th>\n",
       "      <th>FloodProbability</th>\n",
       "    </tr>\n",
       "  </thead>\n",
       "  <tbody>\n",
       "    <tr>\n",
       "      <th>count</th>\n",
       "      <td>1.117957e+06</td>\n",
       "      <td>1.167957e+06</td>\n",
       "      <td>1.167957e+06</td>\n",
       "      <td>1.167957e+06</td>\n",
       "      <td>1.167957e+06</td>\n",
       "      <td>1.167957e+06</td>\n",
       "      <td>1.167957e+06</td>\n",
       "      <td>1.167957e+06</td>\n",
       "      <td>1.167957e+06</td>\n",
       "      <td>1.167957e+06</td>\n",
       "      <td>...</td>\n",
       "      <td>1.167957e+06</td>\n",
       "      <td>1.167957e+06</td>\n",
       "      <td>1.167957e+06</td>\n",
       "      <td>1.167957e+06</td>\n",
       "      <td>1.167957e+06</td>\n",
       "      <td>1.167957e+06</td>\n",
       "      <td>1.167957e+06</td>\n",
       "      <td>1.167957e+06</td>\n",
       "      <td>1.167957e+06</td>\n",
       "      <td>1.167957e+06</td>\n",
       "    </tr>\n",
       "    <tr>\n",
       "      <th>mean</th>\n",
       "      <td>5.589780e+05</td>\n",
       "      <td>4.924448e+00</td>\n",
       "      <td>4.929129e+00</td>\n",
       "      <td>4.957917e+00</td>\n",
       "      <td>4.945076e+00</td>\n",
       "      <td>4.944509e+00</td>\n",
       "      <td>4.936415e+00</td>\n",
       "      <td>4.958424e+00</td>\n",
       "      <td>4.930394e+00</td>\n",
       "      <td>4.945338e+00</td>\n",
       "      <td>...</td>\n",
       "      <td>4.949426e+00</td>\n",
       "      <td>4.955965e+00</td>\n",
       "      <td>4.933638e+00</td>\n",
       "      <td>4.931206e+00</td>\n",
       "      <td>4.928574e+00</td>\n",
       "      <td>4.929979e+00</td>\n",
       "      <td>4.953182e+00</td>\n",
       "      <td>4.942889e+00</td>\n",
       "      <td>4.941209e+00</td>\n",
       "      <td>5.042740e-01</td>\n",
       "    </tr>\n",
       "    <tr>\n",
       "      <th>std</th>\n",
       "      <td>3.227265e+05</td>\n",
       "      <td>2.064482e+00</td>\n",
       "      <td>2.100671e+00</td>\n",
       "      <td>2.079283e+00</td>\n",
       "      <td>2.059346e+00</td>\n",
       "      <td>2.090501e+00</td>\n",
       "      <td>2.065289e+00</td>\n",
       "      <td>2.090286e+00</td>\n",
       "      <td>2.073436e+00</td>\n",
       "      <td>2.075964e+00</td>\n",
       "      <td>...</td>\n",
       "      <td>2.079734e+00</td>\n",
       "      <td>2.095936e+00</td>\n",
       "      <td>2.084931e+00</td>\n",
       "      <td>2.089052e+00</td>\n",
       "      <td>2.072244e+00</td>\n",
       "      <td>2.081498e+00</td>\n",
       "      <td>2.075967e+00</td>\n",
       "      <td>2.087742e+00</td>\n",
       "      <td>2.097278e+00</td>\n",
       "      <td>5.099335e-02</td>\n",
       "    </tr>\n",
       "    <tr>\n",
       "      <th>min</th>\n",
       "      <td>0.000000e+00</td>\n",
       "      <td>0.000000e+00</td>\n",
       "      <td>0.000000e+00</td>\n",
       "      <td>0.000000e+00</td>\n",
       "      <td>0.000000e+00</td>\n",
       "      <td>0.000000e+00</td>\n",
       "      <td>0.000000e+00</td>\n",
       "      <td>0.000000e+00</td>\n",
       "      <td>0.000000e+00</td>\n",
       "      <td>0.000000e+00</td>\n",
       "      <td>...</td>\n",
       "      <td>0.000000e+00</td>\n",
       "      <td>0.000000e+00</td>\n",
       "      <td>0.000000e+00</td>\n",
       "      <td>0.000000e+00</td>\n",
       "      <td>0.000000e+00</td>\n",
       "      <td>0.000000e+00</td>\n",
       "      <td>0.000000e+00</td>\n",
       "      <td>0.000000e+00</td>\n",
       "      <td>0.000000e+00</td>\n",
       "      <td>2.850000e-01</td>\n",
       "    </tr>\n",
       "    <tr>\n",
       "      <th>25%</th>\n",
       "      <td>2.794890e+05</td>\n",
       "      <td>3.000000e+00</td>\n",
       "      <td>3.000000e+00</td>\n",
       "      <td>4.000000e+00</td>\n",
       "      <td>4.000000e+00</td>\n",
       "      <td>3.000000e+00</td>\n",
       "      <td>3.000000e+00</td>\n",
       "      <td>4.000000e+00</td>\n",
       "      <td>3.000000e+00</td>\n",
       "      <td>3.000000e+00</td>\n",
       "      <td>...</td>\n",
       "      <td>4.000000e+00</td>\n",
       "      <td>3.000000e+00</td>\n",
       "      <td>3.000000e+00</td>\n",
       "      <td>3.000000e+00</td>\n",
       "      <td>3.000000e+00</td>\n",
       "      <td>3.000000e+00</td>\n",
       "      <td>3.000000e+00</td>\n",
       "      <td>3.000000e+00</td>\n",
       "      <td>3.000000e+00</td>\n",
       "      <td>4.700000e-01</td>\n",
       "    </tr>\n",
       "    <tr>\n",
       "      <th>50%</th>\n",
       "      <td>5.589780e+05</td>\n",
       "      <td>5.000000e+00</td>\n",
       "      <td>5.000000e+00</td>\n",
       "      <td>5.000000e+00</td>\n",
       "      <td>5.000000e+00</td>\n",
       "      <td>5.000000e+00</td>\n",
       "      <td>5.000000e+00</td>\n",
       "      <td>5.000000e+00</td>\n",
       "      <td>5.000000e+00</td>\n",
       "      <td>5.000000e+00</td>\n",
       "      <td>...</td>\n",
       "      <td>5.000000e+00</td>\n",
       "      <td>5.000000e+00</td>\n",
       "      <td>5.000000e+00</td>\n",
       "      <td>5.000000e+00</td>\n",
       "      <td>5.000000e+00</td>\n",
       "      <td>5.000000e+00</td>\n",
       "      <td>5.000000e+00</td>\n",
       "      <td>5.000000e+00</td>\n",
       "      <td>5.000000e+00</td>\n",
       "      <td>5.050000e-01</td>\n",
       "    </tr>\n",
       "    <tr>\n",
       "      <th>75%</th>\n",
       "      <td>8.384670e+05</td>\n",
       "      <td>6.000000e+00</td>\n",
       "      <td>6.000000e+00</td>\n",
       "      <td>6.000000e+00</td>\n",
       "      <td>6.000000e+00</td>\n",
       "      <td>6.000000e+00</td>\n",
       "      <td>6.000000e+00</td>\n",
       "      <td>6.000000e+00</td>\n",
       "      <td>6.000000e+00</td>\n",
       "      <td>6.000000e+00</td>\n",
       "      <td>...</td>\n",
       "      <td>6.000000e+00</td>\n",
       "      <td>6.000000e+00</td>\n",
       "      <td>6.000000e+00</td>\n",
       "      <td>6.000000e+00</td>\n",
       "      <td>6.000000e+00</td>\n",
       "      <td>6.000000e+00</td>\n",
       "      <td>6.000000e+00</td>\n",
       "      <td>6.000000e+00</td>\n",
       "      <td>6.000000e+00</td>\n",
       "      <td>5.400000e-01</td>\n",
       "    </tr>\n",
       "    <tr>\n",
       "      <th>max</th>\n",
       "      <td>1.117956e+06</td>\n",
       "      <td>1.600000e+01</td>\n",
       "      <td>1.800000e+01</td>\n",
       "      <td>1.600000e+01</td>\n",
       "      <td>1.700000e+01</td>\n",
       "      <td>1.700000e+01</td>\n",
       "      <td>1.700000e+01</td>\n",
       "      <td>1.600000e+01</td>\n",
       "      <td>1.600000e+01</td>\n",
       "      <td>1.600000e+01</td>\n",
       "      <td>...</td>\n",
       "      <td>1.700000e+01</td>\n",
       "      <td>1.700000e+01</td>\n",
       "      <td>1.600000e+01</td>\n",
       "      <td>1.600000e+01</td>\n",
       "      <td>1.700000e+01</td>\n",
       "      <td>1.900000e+01</td>\n",
       "      <td>2.200000e+01</td>\n",
       "      <td>1.600000e+01</td>\n",
       "      <td>1.600000e+01</td>\n",
       "      <td>7.250000e-01</td>\n",
       "    </tr>\n",
       "  </tbody>\n",
       "</table>\n",
       "<p>8 rows × 22 columns</p>\n",
       "</div>"
      ],
      "text/plain": [
       "                 id  MonsoonIntensity  TopographyDrainage  RiverManagement  \\\n",
       "count  1.117957e+06      1.167957e+06        1.167957e+06     1.167957e+06   \n",
       "mean   5.589780e+05      4.924448e+00        4.929129e+00     4.957917e+00   \n",
       "std    3.227265e+05      2.064482e+00        2.100671e+00     2.079283e+00   \n",
       "min    0.000000e+00      0.000000e+00        0.000000e+00     0.000000e+00   \n",
       "25%    2.794890e+05      3.000000e+00        3.000000e+00     4.000000e+00   \n",
       "50%    5.589780e+05      5.000000e+00        5.000000e+00     5.000000e+00   \n",
       "75%    8.384670e+05      6.000000e+00        6.000000e+00     6.000000e+00   \n",
       "max    1.117956e+06      1.600000e+01        1.800000e+01     1.600000e+01   \n",
       "\n",
       "       Deforestation  Urbanization  ClimateChange   DamsQuality     Siltation  \\\n",
       "count   1.167957e+06  1.167957e+06   1.167957e+06  1.167957e+06  1.167957e+06   \n",
       "mean    4.945076e+00  4.944509e+00   4.936415e+00  4.958424e+00  4.930394e+00   \n",
       "std     2.059346e+00  2.090501e+00   2.065289e+00  2.090286e+00  2.073436e+00   \n",
       "min     0.000000e+00  0.000000e+00   0.000000e+00  0.000000e+00  0.000000e+00   \n",
       "25%     4.000000e+00  3.000000e+00   3.000000e+00  4.000000e+00  3.000000e+00   \n",
       "50%     5.000000e+00  5.000000e+00   5.000000e+00  5.000000e+00  5.000000e+00   \n",
       "75%     6.000000e+00  6.000000e+00   6.000000e+00  6.000000e+00  6.000000e+00   \n",
       "max     1.700000e+01  1.700000e+01   1.700000e+01  1.600000e+01  1.600000e+01   \n",
       "\n",
       "       AgriculturalPractices  ...  DrainageSystems  CoastalVulnerability  \\\n",
       "count           1.167957e+06  ...     1.167957e+06          1.167957e+06   \n",
       "mean            4.945338e+00  ...     4.949426e+00          4.955965e+00   \n",
       "std             2.075964e+00  ...     2.079734e+00          2.095936e+00   \n",
       "min             0.000000e+00  ...     0.000000e+00          0.000000e+00   \n",
       "25%             3.000000e+00  ...     4.000000e+00          3.000000e+00   \n",
       "50%             5.000000e+00  ...     5.000000e+00          5.000000e+00   \n",
       "75%             6.000000e+00  ...     6.000000e+00          6.000000e+00   \n",
       "max             1.600000e+01  ...     1.700000e+01          1.700000e+01   \n",
       "\n",
       "         Landslides    Watersheds  DeterioratingInfrastructure  \\\n",
       "count  1.167957e+06  1.167957e+06                 1.167957e+06   \n",
       "mean   4.933638e+00  4.931206e+00                 4.928574e+00   \n",
       "std    2.084931e+00  2.089052e+00                 2.072244e+00   \n",
       "min    0.000000e+00  0.000000e+00                 0.000000e+00   \n",
       "25%    3.000000e+00  3.000000e+00                 3.000000e+00   \n",
       "50%    5.000000e+00  5.000000e+00                 5.000000e+00   \n",
       "75%    6.000000e+00  6.000000e+00                 6.000000e+00   \n",
       "max    1.600000e+01  1.600000e+01                 1.700000e+01   \n",
       "\n",
       "       PopulationScore   WetlandLoss  InadequatePlanning  PoliticalFactors  \\\n",
       "count     1.167957e+06  1.167957e+06        1.167957e+06      1.167957e+06   \n",
       "mean      4.929979e+00  4.953182e+00        4.942889e+00      4.941209e+00   \n",
       "std       2.081498e+00  2.075967e+00        2.087742e+00      2.097278e+00   \n",
       "min       0.000000e+00  0.000000e+00        0.000000e+00      0.000000e+00   \n",
       "25%       3.000000e+00  3.000000e+00        3.000000e+00      3.000000e+00   \n",
       "50%       5.000000e+00  5.000000e+00        5.000000e+00      5.000000e+00   \n",
       "75%       6.000000e+00  6.000000e+00        6.000000e+00      6.000000e+00   \n",
       "max       1.900000e+01  2.200000e+01        1.600000e+01      1.600000e+01   \n",
       "\n",
       "       FloodProbability  \n",
       "count      1.167957e+06  \n",
       "mean       5.042740e-01  \n",
       "std        5.099335e-02  \n",
       "min        2.850000e-01  \n",
       "25%        4.700000e-01  \n",
       "50%        5.050000e-01  \n",
       "75%        5.400000e-01  \n",
       "max        7.250000e-01  \n",
       "\n",
       "[8 rows x 22 columns]"
      ]
     },
     "execution_count": 370,
     "metadata": {},
     "output_type": "execute_result"
    }
   ],
   "source": [
    "df.describe()"
   ]
  },
  {
   "cell_type": "markdown",
   "metadata": {},
   "source": [
    "### 🎯 Target"
   ]
  },
  {
   "cell_type": "markdown",
   "metadata": {},
   "source": [
    "As mentioned in the [kaggle overview page](https://www.kaggle.com/competitions/playground-series-s4e5/overview) of the competition, the goal is to predict **Flood Probability**.\n",
    "\n",
    "We note that the dataset is **synthetically-generated**.\n",
    "\n",
    "The distribution for **Flood Probability** appears to be very clean and fairly normal. There are a few high and low outliers, and nothing far below probabilities of ```0.3``` and ```0.7```. It is possible this data would benefit from a **min-max** scalar. @TODO verify this"
   ]
  },
  {
   "cell_type": "code",
   "execution_count": 371,
   "metadata": {},
   "outputs": [
    {
     "data": {
      "image/png": "[encoded data removed]",
      "text/plain": [
       "<Figure size 1200x480 with 2 Axes>"
      ]
     },
     "metadata": {},
     "output_type": "display_data"
    }
   ],
   "source": [
    "target = 'FloodProbability'\n",
    "fig, ax = plt.subplots(1, 2)\n",
    "fig.set_figwidth(12)\n",
    "\n",
    "sns.boxplot(data=df, y=target, ax=ax[0])\n",
    "ax[0].set_title(\"Distribution of Flood Probability\")\n",
    "sns.histplot(data=df, x=target, ax=ax[1], bins=20)\n",
    "ax[1].set_title(\"Boxplot of Flood Probability\")\n",
    "\n",
    "plt.show()"
   ]
  },
  {
   "cell_type": "markdown",
   "metadata": {},
   "source": [
    "### 🪪 ID"
   ]
  },
  {
   "cell_type": "markdown",
   "metadata": {},
   "source": [
    "There is exactly a **one-to-one** relationship for the **id** and the **row index** in the dataframe, so we can say with fair confidence this will not be useful for machine learning models, and can be fairly certain that the **id** simply is the row index from just looking at the head and noting this relationship."
   ]
  },
  {
   "cell_type": "code",
   "execution_count": 372,
   "metadata": {},
   "outputs": [
    {
     "data": {
      "text/plain": [
       "(1117957, 1167957)"
      ]
     },
     "execution_count": 372,
     "metadata": {},
     "output_type": "execute_result"
    }
   ],
   "source": [
    "len(df['id'].value_counts().keys()), len(df)"
   ]
  },
  {
   "cell_type": "markdown",
   "metadata": {},
   "source": [
    "### 📈 Numerical Columns"
   ]
  },
  {
   "cell_type": "markdown",
   "metadata": {},
   "source": [
    "After looking at the statistical data from ```describe()```, we know that all of the columns are numeric (either ```int64``` or ```float``` datatypes). So to look at the numeric columns we can just drop the target and the id to get everything of interest."
   ]
  },
  {
   "cell_type": "code",
   "execution_count": 373,
   "metadata": {},
   "outputs": [
    {
     "data": {
      "text/plain": [
       "(20, 22)"
      ]
     },
     "execution_count": 373,
     "metadata": {},
     "output_type": "execute_result"
    }
   ],
   "source": [
    "eda_features = df.drop(['id', target], axis=1).columns\n",
    "len(eda_features), len(df.columns)"
   ]
  },
  {
   "cell_type": "markdown",
   "metadata": {},
   "source": [
    "Certainly since all of the features are integers between 1 and 17 (or even tighter ranges), they can alternatively be seen as categorical variables of up to 17 categories as well. This may not be desirable given that it would greatly increase dimensionality and likely lead to some significantly underrepresented classes when encoded, but it could still be something of note.\n",
    "* The distribution of the numeric features is extremely similar. Most are between 0 and 10 for their 25-75% quartile whiskers, and about 4 and 6 for their interquartiles. There are always a few outliers, but certainly not many.\n",
    "* Looking at scatterplots, every single feature tends to follow similar patterns: outliers $>10$ lead to notable increases in **Flood Probability** (usually of $~20$%).\n",
    "* Looking at the histograms in relation to the target variable, "
   ]
  },
  {
   "cell_type": "code",
   "execution_count": 374,
   "metadata": {},
   "outputs": [],
   "source": [
    "# Plotting can take some time and the figure is saved locally, so only do this if you want to.\n",
    "plot_continuous_variables = False\n",
    "\n",
    "if plot_continuous_variables == True:\n",
    "    # We want to plot each feature on its own row with a histogram, boxplot, and regression line\n",
    "    fig, axes = plt.subplots(len(eda_features), 3)\n",
    "    fig.set_figwidth(16)\n",
    "    fig.set_figheight(len(eda_features) * 5)\n",
    "\n",
    "    for i in range(len(eda_features)):\n",
    "        ax = axes[i]\n",
    "        sns.boxplot(data=df, y=eda_features[i], ax=ax[0])\n",
    "        ax[0].set_title(\"Distribution of \" + eda_features[i])\n",
    "\n",
    "        sns.histplot(data=df, x=eda_features[i], ax=ax[1], bins=20)\n",
    "        ax[1].set_title(\"Histogram of \" + eda_features[i])\n",
    "\n",
    "        sns.boxplot(data=df, x=eda_features[i], y=target, ax=ax[2])\n",
    "        # sns.regplot(data=df, x=eda_features[i], y=target, ax=ax[2])\n",
    "        ax[2].set_title(\"Relationship between \" + eda_features[i] + \" and target\")\n",
    "\n",
    "    plt.show()"
   ]
  },
  {
   "cell_type": "markdown",
   "metadata": {},
   "source": [
    "The below snippet looks at values in features that have extremely poor distributions. Looking at the histograms between features and the **Flood Probability** above, there are a few towards the high-end that behave erratically, going against trends, showing wider ranges, and generally being a bit less-valuable.\n",
    "* In general, most features with values $>15$ tend to have very small support."
   ]
  },
  {
   "cell_type": "code",
   "execution_count": 375,
   "metadata": {},
   "outputs": [],
   "source": [
    "# for i in eda_features:\n",
    "#     vc = df[i].value_counts()\n",
    "#     for j in vc.keys():\n",
    "#         if vc[j] < 50:\n",
    "#             print(i, j, vc[j])"
   ]
  },
  {
   "cell_type": "markdown",
   "metadata": {},
   "source": [
    "## Feature Engineering"
   ]
  },
  {
   "cell_type": "markdown",
   "metadata": {},
   "source": [
    "### Sum"
   ]
  },
  {
   "cell_type": "markdown",
   "metadata": {},
   "source": [
    "Since most of the numerical features are fairly similar, it might be worth taking some aggregate of all features to see if that has any value.\n",
    "\n",
    "From the scatterplot, we can see ar eally clear regression line . The distance from these outliers from the line appears worst at towards the **min** and **max** values of **flood probability**, as well as at **sums** of ```75``` and ```105```, wherein perhaps key features may be overrepresenting flood probability to what the sum can show."
   ]
  },
  {
   "cell_type": "code",
   "execution_count": 376,
   "metadata": {},
   "outputs": [
    {
     "data": {
      "image/png": "[encoded data removed]",
      "text/plain": [
       "<Figure size 1800x480 with 4 Axes>"
      ]
     },
     "metadata": {},
     "output_type": "display_data"
    }
   ],
   "source": [
    "df['sum'] = df['MonsoonIntensity'] + df['TopographyDrainage'] + df['RiverManagement'] + df['Deforestation'] +  df['Urbanization'] +  df['ClimateChange'] + df['DamsQuality'] + df['Siltation'] + df['AgriculturalPractices'] + df['Encroachments'] + df['IneffectiveDisasterPreparedness'] + df['DrainageSystems'] + df['CoastalVulnerability'] + df['Landslides'] + df['Watersheds'] + df['DeterioratingInfrastructure'] + df['PopulationScore'] + df['WetlandLoss'] + df['InadequatePlanning'] + df['PoliticalFactors']\n",
    "\n",
    "fig, axes = plt.subplots(1, 4)\n",
    "fig.set_figwidth(18)\n",
    "sns.boxplot(data=df, y='sum', ax=axes[0])\n",
    "axes[0].set_title(\"Distribution of sum\")\n",
    "sns.histplot(data=df, x='sum', ax=axes[1], bins = 20)\n",
    "axes[1].set_title(\"Histogram of sum\")\n",
    "sns.scatterplot(data=df, x='sum', y=target, ax=axes[2])\n",
    "axes[2].set_ylim((0.2, 0.8))\n",
    "axes[2].set_title(\"Scatterplot of sum and flood probability\")\n",
    "sns.regplot(data = df, x='sum', y=target,\n",
    "            line_kws={'color': 'green', 'linewidth': 3, 'linestyle': '--'},\n",
    "            scatter_kws={'color': 'purple', 's': 5, 'alpha': 0.6},\n",
    "            # ci=None,  # Remove the confidence interval\n",
    "            ci=0.95,\n",
    "            marker='x',  # Change marker style\n",
    "            x_jitter=0.1,\n",
    "            y_jitter=0.1,\n",
    "            ax=axes[3])\n",
    "axes[3].set_title(\"Regression Plot of Sum and Flood Probability\")\n",
    "plt.show()"
   ]
  },
  {
   "cell_type": "markdown",
   "metadata": {},
   "source": [
    "#### Regression with Sum Feature"
   ]
  },
  {
   "cell_type": "markdown",
   "metadata": {},
   "source": [
    "The below cell creates a Linear Regression model fit on the **flood probability** as a function of the **sum** values.\n",
    "The equation of the linear regression we get is:\n",
    "\n",
    "$y=0.0056x - 0.0491$"
   ]
  },
  {
   "cell_type": "code",
   "execution_count": 377,
   "metadata": {},
   "outputs": [
    {
     "name": "stdout",
     "output_type": "stream",
     "text": [
      "y = 0.005599208227274932 x + -0.04913604735655086\n"
     ]
    }
   ],
   "source": [
    "from sklearn.linear_model import LinearRegression\n",
    "\n",
    "lr = LinearRegression()\n",
    "lr.fit(df[['sum']], df[target])\n",
    "lr.coef_\n",
    "print(\"y =\", lr.coef_[0], \"x +\", lr.intercept_)"
   ]
  },
  {
   "cell_type": "markdown",
   "metadata": {},
   "source": [
    "Now that the linear regression model is fit, we can make predictions."
   ]
  },
  {
   "cell_type": "code",
   "execution_count": 378,
   "metadata": {},
   "outputs": [
    {
     "data": {
      "text/html": [
       "<div>\n",
       "<style scoped>\n",
       "    .dataframe tbody tr th:only-of-type {\n",
       "        vertical-align: middle;\n",
       "    }\n",
       "\n",
       "    .dataframe tbody tr th {\n",
       "        vertical-align: top;\n",
       "    }\n",
       "\n",
       "    .dataframe thead th {\n",
       "        text-align: right;\n",
       "    }\n",
       "</style>\n",
       "<table border=\"1\" class=\"dataframe\">\n",
       "  <thead>\n",
       "    <tr style=\"text-align: right;\">\n",
       "      <th></th>\n",
       "      <th>sum_preds</th>\n",
       "      <th>FloodProbability</th>\n",
       "    </tr>\n",
       "  </thead>\n",
       "  <tbody>\n",
       "    <tr>\n",
       "      <th>0</th>\n",
       "      <td>0.477190</td>\n",
       "      <td>0.445</td>\n",
       "    </tr>\n",
       "    <tr>\n",
       "      <th>1</th>\n",
       "      <td>0.477190</td>\n",
       "      <td>0.450</td>\n",
       "    </tr>\n",
       "    <tr>\n",
       "      <th>2</th>\n",
       "      <td>0.505186</td>\n",
       "      <td>0.530</td>\n",
       "    </tr>\n",
       "    <tr>\n",
       "      <th>3</th>\n",
       "      <td>0.533182</td>\n",
       "      <td>0.535</td>\n",
       "    </tr>\n",
       "    <tr>\n",
       "      <th>4</th>\n",
       "      <td>0.354007</td>\n",
       "      <td>0.415</td>\n",
       "    </tr>\n",
       "  </tbody>\n",
       "</table>\n",
       "</div>"
      ],
      "text/plain": [
       "   sum_preds  FloodProbability\n",
       "0   0.477190             0.445\n",
       "1   0.477190             0.450\n",
       "2   0.505186             0.530\n",
       "3   0.533182             0.535\n",
       "4   0.354007             0.415"
      ]
     },
     "execution_count": 378,
     "metadata": {},
     "output_type": "execute_result"
    }
   ],
   "source": [
    "df['sum_preds'] = lr.predict(df[['sum']])\n",
    "df[['sum_preds', target]].head()"
   ]
  },
  {
   "cell_type": "markdown",
   "metadata": {},
   "source": [
    "Here we make a new dataframe that contains the **error** of the LinearRegression model, sorted in descending order.\n",
    "We can see that the worst values are up to $20%$ off of the mark for **flood probability**."
   ]
  },
  {
   "cell_type": "code",
   "execution_count": 379,
   "metadata": {},
   "outputs": [
    {
     "data": {
      "text/html": [
       "<div>\n",
       "<style scoped>\n",
       "    .dataframe tbody tr th:only-of-type {\n",
       "        vertical-align: middle;\n",
       "    }\n",
       "\n",
       "    .dataframe tbody tr th {\n",
       "        vertical-align: top;\n",
       "    }\n",
       "\n",
       "    .dataframe thead th {\n",
       "        text-align: right;\n",
       "    }\n",
       "</style>\n",
       "<table border=\"1\" class=\"dataframe\">\n",
       "  <thead>\n",
       "    <tr style=\"text-align: right;\">\n",
       "      <th></th>\n",
       "      <th>distances</th>\n",
       "    </tr>\n",
       "  </thead>\n",
       "  <tbody>\n",
       "    <tr>\n",
       "      <th>1067117</th>\n",
       "      <td>0.192190</td>\n",
       "    </tr>\n",
       "    <tr>\n",
       "      <th>514690</th>\n",
       "      <td>0.186590</td>\n",
       "    </tr>\n",
       "    <tr>\n",
       "      <th>887899</th>\n",
       "      <td>0.186590</td>\n",
       "    </tr>\n",
       "    <tr>\n",
       "      <th>331323</th>\n",
       "      <td>0.180991</td>\n",
       "    </tr>\n",
       "    <tr>\n",
       "      <th>59103</th>\n",
       "      <td>0.180991</td>\n",
       "    </tr>\n",
       "  </tbody>\n",
       "</table>\n",
       "</div>"
      ],
      "text/plain": [
       "         distances\n",
       "1067117   0.192190\n",
       "514690    0.186590\n",
       "887899    0.186590\n",
       "331323    0.180991\n",
       "59103     0.180991"
      ]
     },
     "execution_count": 379,
     "metadata": {},
     "output_type": "execute_result"
    }
   ],
   "source": [
    "df_new = pd.DataFrame()\n",
    "# Same thing as absolute value but shows euclidean distance being used.\n",
    "# df_new['distances'] = np.sqrt((df['sum_preds'] - df[target])**2)\n",
    "df_new['distances'] = df['sum_preds'] - df[target]\n",
    "df_new = df_new.sort_values(by='distances', ascending=False)\n",
    "df_new.head()"
   ]
  },
  {
   "cell_type": "code",
   "execution_count": 380,
   "metadata": {},
   "outputs": [
    {
     "data": {
      "text/plain": [
       "98.83719434876456"
      ]
     },
     "execution_count": 380,
     "metadata": {},
     "output_type": "execute_result"
    }
   ],
   "source": [
    "df['sum'].mean()"
   ]
  },
  {
   "cell_type": "markdown",
   "metadata": {},
   "source": [
    "Examining some of the outliers:\n",
    "* Top 6 biggest distances in regression predictions are very close to $\\mu$ of sum. Top $30$ largest distances from regression predictions are still quite close to $\\mu$ of sum.\n",
    "* Generally, outliers seem to be playing a greater role. A few high or low feature values tend to notably alter the probability of a flood\n",
    "* Certain groups and combinations of features seem to play a part e.g. drainage features, planning features, environmental instability features.\n",
    "* The linear model tends to **underestimate** (rather than overestimate) the **flood probability**\n",
    "\n",
    "Individual Data Points (first 35)\n",
    "* Higher **deforestation** and **inadequate planning**\n",
    "* Very high **monsoon intensity** and **enroachments**, higher **population score** and **topography drainage** while other variables remain low.\n",
    "* Higher **wetland loss** and **deforestation**\n",
    "* Very high **climate change**, **population score**, notably high **innefective disaster preparedness**\n",
    "* Very high **deteriorating infrastructure**, **wetland loss**, and **inadequate planning**\n",
    "* Overestimated with only high **inadequate planning**, **wetland loss** and **watersheds**\n",
    "* Overestimated high outlier **river management**, outlier **drainage systems**. Had several low values in the second quartile as well\n",
    "* Overestimated, had perfect **disaster preparedness**, good **planning**, **politics**, and **monsoon intensity**. Had outlier **dams quality** and high **topography drainage**.\n",
    "* Overestimated with no outliers. Had lots of high values, but **perfect planning**.\n",
    "* There are many $~20%$ estimations where all the values are within the whiskers\n",
    "* Underestimated with no outliers. Highest values were **watersheds** and **urbanization** respectively.\n",
    "* Overestimated, no outliers but good **infrastructure**, **disaster preparedness**, and **agricultural practices**\n",
    "* Overestimated, no outliers. Good **agricultural practices** and decent **drainage**, **deforestation**, and **disaster preparedness**.\n",
    "* Overestimated. High **dams quality** outlier, but good **enroachments**, **wetlands**, decent **climate change**, **drainage**.\n",
    "* Overestimated. No outliers, high **urbanization**, and **infrastructure** with bad **topography drainage**. Really good **drainage systems**, good **river management** and **population score**. Decent **dams**.\n",
    "* Underestimated. No outliers, high **climate change**, **vulnerability** and **wetland loss**. **Drainage**, **dam quality**, **disaster preparedness** and **adequate planning** were decent but none were far out of the inner quartiles amazing. **population score** was in the lower quartile.\n",
    "* Overestimated. Really good **agricultural practices**, and **encroachments**. Low **coastal vulnerability**, **watersheds**, and **enroachments**. High **inadequate planning** and **dams quality**, medium high **disaster preparedness**.\n",
    "* Overestimated with perfect **planning**, nothing terrible just high **deforestation** and **urbanization**.\n",
    "* Underestimated with high **climate change**, **deteriorating infrastructure**, and **drainage**. Good**coastal vulnerability**, **political factors**, **river management**, **siltation**, **agricultural practices**, **landslides**, and **watersheds**.\n",
    "* Underestimated with bad **disaster preparedness** and **planning**. Many decent values but only **wetlands** were in the bottom whisker.\n",
    "* Underestimated with bad **watersheds**, **agricultural practices** and **dams quality**. Nothign was below $3$.\n",
    "* Overestimated. Only **river management** was bad, whereas **planning** was good, **disaster preparedness** was decent along with a few other variables.\n",
    "* Underestimated. Outlier in **topography drainage** and high **monsoon**, **drainage systems**, and **landslide**. Had good **infrastructure** and **disaster preparedness**\n",
    "* Underestimated. High **urbanization** and relatively-high **climate change** with no values $<= 2$\n",
    "* Underestimated. Really good **river management**, but heavy **monsoon intensity**, **deforestation**, and **encroachments**\n",
    "* Overestimated. Terrible **drainage systems** but good **monsoon intensity**, **urbanization**, and **enroachments**. Several decent scores for **topography drainage**, **agricultural practices**, **coastal vulnerability**, **population score**, and **adequate planning**.\n",
    "* Underestimated. High outlier **agricultural practices**, and fairly high **encroachments** and **deforestation**. Only values $<3$ are **political factors**, **dam quality** and **topography drainage**. **Drainage systems** weren't great.\n",
    "* Underestimated. High **river management**, **monsoon intensity**, **siltation** and **innefective disaster preparedness**. Only good **urbanization** and **deforestation**.\n",
    "* Underestimated. High **deteriorating infrastructure**, **inadequate planning**, **river management**, and **wetland loss**. Only good **agricultural practices**. and **dam quality**.\n",
    "* Underestimated (with very high actual probability of flood). Outliers in **politics** and **river management**. **monsoon intensity**, **population score**, **wetland loss**, were all good at $3$.\n",
    "* Overestimated. Outlier in **agricultural practices**, with high **enroachments** and **river management**. Really good **landslides** score."
   ]
  },
  {
   "cell_type": "code",
   "execution_count": 381,
   "metadata": {},
   "outputs": [
    {
     "data": {
      "text/plain": [
       "-79.24279572169387"
      ]
     },
     "execution_count": 381,
     "metadata": {},
     "output_type": "execute_result"
    }
   ],
   "source": [
    "distances = 0\n",
    "for i in range(1000):\n",
    "    curr_row = df.iloc[df_new.iloc[i].name]\n",
    "    distances = distances + (curr_row[target] - curr_row['sum_preds'])\n",
    "distances"
   ]
  },
  {
   "cell_type": "code",
   "execution_count": 386,
   "metadata": {},
   "outputs": [
    {
     "data": {
      "text/html": [
       "<div>\n",
       "<style scoped>\n",
       "    .dataframe tbody tr th:only-of-type {\n",
       "        vertical-align: middle;\n",
       "    }\n",
       "\n",
       "    .dataframe tbody tr th {\n",
       "        vertical-align: top;\n",
       "    }\n",
       "\n",
       "    .dataframe thead th {\n",
       "        text-align: right;\n",
       "    }\n",
       "</style>\n",
       "<table border=\"1\" class=\"dataframe\">\n",
       "  <thead>\n",
       "    <tr style=\"text-align: right;\">\n",
       "      <th></th>\n",
       "      <th>id</th>\n",
       "      <th>MonsoonIntensity</th>\n",
       "      <th>TopographyDrainage</th>\n",
       "      <th>RiverManagement</th>\n",
       "      <th>Deforestation</th>\n",
       "      <th>Urbanization</th>\n",
       "      <th>ClimateChange</th>\n",
       "      <th>DamsQuality</th>\n",
       "      <th>Siltation</th>\n",
       "      <th>AgriculturalPractices</th>\n",
       "      <th>...</th>\n",
       "      <th>Watersheds</th>\n",
       "      <th>DeterioratingInfrastructure</th>\n",
       "      <th>PopulationScore</th>\n",
       "      <th>WetlandLoss</th>\n",
       "      <th>InadequatePlanning</th>\n",
       "      <th>PoliticalFactors</th>\n",
       "      <th>FloodProbability</th>\n",
       "      <th>sum</th>\n",
       "      <th>sum_preds</th>\n",
       "      <th>z_score_agg</th>\n",
       "    </tr>\n",
       "  </thead>\n",
       "  <tbody>\n",
       "    <tr>\n",
       "      <th>0</th>\n",
       "      <td>0.0</td>\n",
       "      <td>5</td>\n",
       "      <td>8</td>\n",
       "      <td>5</td>\n",
       "      <td>8</td>\n",
       "      <td>6</td>\n",
       "      <td>4</td>\n",
       "      <td>4</td>\n",
       "      <td>3</td>\n",
       "      <td>3</td>\n",
       "      <td>...</td>\n",
       "      <td>5</td>\n",
       "      <td>4</td>\n",
       "      <td>7</td>\n",
       "      <td>5</td>\n",
       "      <td>7</td>\n",
       "      <td>3</td>\n",
       "      <td>0.445</td>\n",
       "      <td>94</td>\n",
       "      <td>0.477190</td>\n",
       "      <td>-5.297748</td>\n",
       "    </tr>\n",
       "    <tr>\n",
       "      <th>1</th>\n",
       "      <td>1.0</td>\n",
       "      <td>6</td>\n",
       "      <td>7</td>\n",
       "      <td>4</td>\n",
       "      <td>4</td>\n",
       "      <td>8</td>\n",
       "      <td>8</td>\n",
       "      <td>3</td>\n",
       "      <td>5</td>\n",
       "      <td>4</td>\n",
       "      <td>...</td>\n",
       "      <td>3</td>\n",
       "      <td>5</td>\n",
       "      <td>3</td>\n",
       "      <td>3</td>\n",
       "      <td>4</td>\n",
       "      <td>3</td>\n",
       "      <td>0.450</td>\n",
       "      <td>94</td>\n",
       "      <td>0.477190</td>\n",
       "      <td>-5.174491</td>\n",
       "    </tr>\n",
       "    <tr>\n",
       "      <th>2</th>\n",
       "      <td>2.0</td>\n",
       "      <td>6</td>\n",
       "      <td>5</td>\n",
       "      <td>6</td>\n",
       "      <td>7</td>\n",
       "      <td>3</td>\n",
       "      <td>7</td>\n",
       "      <td>1</td>\n",
       "      <td>5</td>\n",
       "      <td>4</td>\n",
       "      <td>...</td>\n",
       "      <td>5</td>\n",
       "      <td>6</td>\n",
       "      <td>8</td>\n",
       "      <td>2</td>\n",
       "      <td>3</td>\n",
       "      <td>3</td>\n",
       "      <td>0.530</td>\n",
       "      <td>99</td>\n",
       "      <td>0.505186</td>\n",
       "      <td>0.764335</td>\n",
       "    </tr>\n",
       "    <tr>\n",
       "      <th>3</th>\n",
       "      <td>3.0</td>\n",
       "      <td>3</td>\n",
       "      <td>4</td>\n",
       "      <td>6</td>\n",
       "      <td>5</td>\n",
       "      <td>4</td>\n",
       "      <td>8</td>\n",
       "      <td>4</td>\n",
       "      <td>7</td>\n",
       "      <td>6</td>\n",
       "      <td>...</td>\n",
       "      <td>4</td>\n",
       "      <td>4</td>\n",
       "      <td>6</td>\n",
       "      <td>5</td>\n",
       "      <td>7</td>\n",
       "      <td>5</td>\n",
       "      <td>0.535</td>\n",
       "      <td>104</td>\n",
       "      <td>0.533182</td>\n",
       "      <td>4.942830</td>\n",
       "    </tr>\n",
       "    <tr>\n",
       "      <th>4</th>\n",
       "      <td>4.0</td>\n",
       "      <td>5</td>\n",
       "      <td>3</td>\n",
       "      <td>2</td>\n",
       "      <td>6</td>\n",
       "      <td>4</td>\n",
       "      <td>4</td>\n",
       "      <td>3</td>\n",
       "      <td>3</td>\n",
       "      <td>3</td>\n",
       "      <td>...</td>\n",
       "      <td>6</td>\n",
       "      <td>4</td>\n",
       "      <td>1</td>\n",
       "      <td>2</td>\n",
       "      <td>3</td>\n",
       "      <td>5</td>\n",
       "      <td>0.415</td>\n",
       "      <td>72</td>\n",
       "      <td>0.354007</td>\n",
       "      <td>-24.045381</td>\n",
       "    </tr>\n",
       "  </tbody>\n",
       "</table>\n",
       "<p>5 rows × 25 columns</p>\n",
       "</div>"
      ],
      "text/plain": [
       "    id  MonsoonIntensity  TopographyDrainage  RiverManagement  Deforestation  \\\n",
       "0  0.0                 5                   8                5              8   \n",
       "1  1.0                 6                   7                4              4   \n",
       "2  2.0                 6                   5                6              7   \n",
       "3  3.0                 3                   4                6              5   \n",
       "4  4.0                 5                   3                2              6   \n",
       "\n",
       "   Urbanization  ClimateChange  DamsQuality  Siltation  AgriculturalPractices  \\\n",
       "0             6              4            4          3                      3   \n",
       "1             8              8            3          5                      4   \n",
       "2             3              7            1          5                      4   \n",
       "3             4              8            4          7                      6   \n",
       "4             4              4            3          3                      3   \n",
       "\n",
       "   ...  Watersheds  DeterioratingInfrastructure  PopulationScore  WetlandLoss  \\\n",
       "0  ...           5                            4                7            5   \n",
       "1  ...           3                            5                3            3   \n",
       "2  ...           5                            6                8            2   \n",
       "3  ...           4                            4                6            5   \n",
       "4  ...           6                            4                1            2   \n",
       "\n",
       "   InadequatePlanning  PoliticalFactors  FloodProbability  sum  sum_preds  \\\n",
       "0                   7                 3             0.445   94   0.477190   \n",
       "1                   4                 3             0.450   94   0.477190   \n",
       "2                   3                 3             0.530   99   0.505186   \n",
       "3                   7                 5             0.535  104   0.533182   \n",
       "4                   3                 5             0.415   72   0.354007   \n",
       "\n",
       "   z_score_agg  \n",
       "0    -5.297748  \n",
       "1    -5.174491  \n",
       "2     0.764335  \n",
       "3     4.942830  \n",
       "4   -24.045381  \n",
       "\n",
       "[5 rows x 25 columns]"
      ]
     },
     "execution_count": 386,
     "metadata": {},
     "output_type": "execute_result"
    }
   ],
   "source": [
    "# Calculate z-scores for each column\n",
    "z_scores = df.apply(zscore)\n",
    "\n",
    "# Sum the z-scores across the columns for each row\n",
    "df['z_score_agg'] = z_scores.sum(axis=1)\n",
    "df.head()"
   ]
  },
  {
   "cell_type": "code",
   "execution_count": 387,
   "metadata": {},
   "outputs": [
    {
     "data": {
      "text/plain": [
       "4.0"
      ]
     },
     "execution_count": 387,
     "metadata": {},
     "output_type": "execute_result"
    }
   ],
   "source": [
    "df.iloc[df_new.iloc[5].name]['MonsoonIntensity']"
   ]
  },
  {
   "cell_type": "code",
   "execution_count": null,
   "metadata": {},
   "outputs": [
    {
     "data": {
      "text/plain": [
       "id                                 242964.000000\n",
       "MonsoonIntensity                        4.000000\n",
       "TopographyDrainage                      7.000000\n",
       "RiverManagement                         5.000000\n",
       "Deforestation                           7.000000\n",
       "Urbanization                            4.000000\n",
       "ClimateChange                           5.000000\n",
       "DamsQuality                             8.000000\n",
       "Siltation                               2.000000\n",
       "AgriculturalPractices                   6.000000\n",
       "Encroachments                           4.000000\n",
       "IneffectiveDisasterPreparedness         4.000000\n",
       "DrainageSystems                         3.000000\n",
       "CoastalVulnerability                    6.000000\n",
       "Landslides                              4.000000\n",
       "Watersheds                              1.000000\n",
       "DeterioratingInfrastructure             4.000000\n",
       "PopulationScore                         3.000000\n",
       "WetlandLoss                             3.000000\n",
       "InadequatePlanning                      3.000000\n",
       "PoliticalFactors                        9.000000\n",
       "FloodProbability                        0.285000\n",
       "sum                                    92.000000\n",
       "sum_preds                               0.465991\n",
       "z_score_agg                           -10.561606\n",
       "Name: 242964, dtype: float64"
      ]
     },
     "execution_count": 295,
     "metadata": {},
     "output_type": "execute_result"
    }
   ],
   "source": [
    "# for i in range(20):\n",
    "df.iloc[df_new.iloc[5].name]"
   ]
  },
  {
   "cell_type": "code",
   "execution_count": null,
   "metadata": {},
   "outputs": [
    {
     "data": {
      "text/plain": [
       "<Axes: xlabel='z_score_agg', ylabel='FloodProbability'>"
      ]
     },
     "execution_count": 297,
     "metadata": {},
     "output_type": "execute_result"
    },
    {
     "data": {
      "image/png": "[encoded data removed]",
      "text/plain": [
       "<Figure size 640x480 with 1 Axes>"
      ]
     },
     "metadata": {},
     "output_type": "display_data"
    }
   ],
   "source": [
    "sns.regplot(data=df, x='z_score_agg', y=target, \n",
    "    line_kws={'color': 'green', 'linewidth': 3, 'linestyle': '--'},  \n",
    "     scatter_kws={'color': 'purple', 's': 5, 'alpha': 0.6},\n",
    "    # ci=None,  # Remove the confidence interval\n",
    "    ci=0.95,\n",
    "    marker='x',  # Change marker style\n",
    "    x_jitter=0.1,\n",
    "    y_jitter=0.1,\n",
    "    )\n",
    "plt.title(\"Regression Plot of Aggregate Z Score and Flood Probability\")\n",
    "plt.show()"
   ]
  },
  {
   "cell_type": "code",
   "execution_count": null,
   "metadata": {},
   "outputs": [
    {
     "data": {
      "text/plain": [
       "(4.126574843680565,\n",
       " array([-2.39679027e-04,  1.85833079e-04, -6.38558268e-05, -3.01284707e-04,\n",
       "         6.77443696e-05, -2.30029434e-04,  6.52386749e-05, -1.33016933e-04,\n",
       "        -1.03064443e-04,  6.63106235e-05,  1.39521498e-07, -5.85391093e-05,\n",
       "         1.30995098e-04,  2.57552028e-06,  5.08234770e-05, -1.47164240e-04,\n",
       "        -3.77583335e-05, -1.03030874e-04,  3.55059317e-05,  1.46571290e-04,\n",
       "        -3.66159453e-02,  4.45890469e-02]))"
      ]
     },
     "execution_count": 340,
     "metadata": {},
     "output_type": "execute_result"
    }
   ],
   "source": [
    "lr_mult = LinearRegression()\n",
    "lr_mult.fit(df[['sum', 'z_score_agg']], df[target])\n",
    "lr_mult.intercept_, lr_mult.coef_"
   ]
  },
  {
   "cell_type": "code",
   "execution_count": null,
   "metadata": {},
   "outputs": [
    {
     "data": {
      "image/png": "[encoded data removed]",
      "text/plain": [
       "<Figure size 1400x600 with 1 Axes>"
      ]
     },
     "metadata": {},
     "output_type": "display_data"
    }
   ],
   "source": [
    "import matplotlib.pyplot as plt\n",
    "from mpl_toolkits.mplot3d import Axes3D\n",
    "\n",
    "intercept = lr_mult.intercept_\n",
    "coef = lr_mult.coef_\n",
    "\n",
    "# Create a meshgrid for the regression plane\n",
    "x_surf, y_surf = np.meshgrid(np.linspace(df['sum'].min(), df['sum'].max(), 100), \n",
    "                             np.linspace(df['z_score_agg'].min(), df['z_score_agg'].max(), 100))\n",
    "z_surf = intercept + coef[0] * x_surf + coef[1] * y_surf\n",
    "\n",
    "# Create the 3D plot\n",
    "fig = plt.figure(figsize=(14,6))\n",
    "ax = fig.add_subplot(111, projection='3d')\n",
    "\n",
    "# Plot the regression plane\n",
    "# ax.plot_surface(x_surf, y_surf, z_surf, color='red', alpha=0.5, rstride=100, cstride=100)\n",
    "\n",
    "# Plot the data points\n",
    "ax.scatter(df['sum'], df['z_score_agg'], df[target], color='blue', label='Data Points')\n",
    "\n",
    "ax.set_xlabel('Sum')\n",
    "ax.set_ylabel('Z-Score Aggregate')\n",
    "ax.set_zlabel('Target')\n",
    "ax.set_title('3D Plot of Linear Regression Model')\n",
    "\n",
    "plt.legend()\n",
    "plt.show()"
   ]
  },
  {
   "cell_type": "code",
   "execution_count": null,
   "metadata": {},
   "outputs": [
    {
     "data": {
      "text/plain": [
       "array([0.445, 0.45 , 0.53 , ..., 0.43 , 0.515, 0.58 ])"
      ]
     },
     "execution_count": 342,
     "metadata": {},
     "output_type": "execute_result"
    }
   ],
   "source": [
    "preds_mult = lr_mult.predict(df[['sum', 'z_score_agg']])\n",
    "preds_mult"
   ]
  },
  {
   "cell_type": "code",
   "execution_count": null,
   "metadata": {},
   "outputs": [
    {
     "name": "stdout",
     "output_type": "stream",
     "text": [
      "R^2 Score: 1.0\n",
      "Mean Absolute Error (MAE): 1.4310525995149174e-15\n",
      "Mean Squared Error (MSE): 3.246180460068939e-30\n",
      "Root Mean Squared Error (RMSE): 1.8017159765259725e-15\n"
     ]
    }
   ],
   "source": [
    "from sklearn.metrics import mean_absolute_error, mean_squared_error, r2_score\n",
    "\n",
    "# Calculate accuracy metrics\n",
    "r2 = r2_score(df[target], preds_mult)\n",
    "mae = mean_absolute_error(df[target], preds_mult)\n",
    "mse = mean_squared_error(df[target], preds_mult)\n",
    "rmse = np.sqrt(mse)\n",
    "\n",
    "print(f'R^2 Score: {r2}')\n",
    "print(f'Mean Absolute Error (MAE): {mae}')\n",
    "print(f'Mean Squared Error (MSE): {mse}')\n",
    "print(f'Root Mean Squared Error (RMSE): {rmse}')"
   ]
  },
  {
   "cell_type": "markdown",
   "metadata": {},
   "source": [
    "## 🤸 Splitting Data"
   ]
  },
  {
   "cell_type": "code",
   "execution_count": 391,
   "metadata": {},
   "outputs": [
    {
     "data": {
      "text/plain": [
       "((934365, 22), (934365,), (233592, 22), (233592,))"
      ]
     },
     "execution_count": 391,
     "metadata": {},
     "output_type": "execute_result"
    }
   ],
   "source": [
    "from sklearn.model_selection import train_test_split\n",
    "\n",
    "features = list(eda_features)\n",
    "features.append('sum')\n",
    "features.append('z_score_agg')\n",
    "\n",
    "X = df[features]\n",
    "y = df[target]\n",
    "\n",
    "X_train, X_test, y_train, y_test = train_test_split(X,\n",
    "    y,\n",
    "    test_size=0.2)\n",
    "\n",
    "X_train.shape, y_train.shape, X_test.shape, y_test.shape"
   ]
  },
  {
   "cell_type": "markdown",
   "metadata": {},
   "source": [
    "## 🤖 Machine Learning"
   ]
  },
  {
   "cell_type": "markdown",
   "metadata": {},
   "source": [
    "### Gradient Boosting Regressor"
   ]
  },
  {
   "cell_type": "code",
   "execution_count": 394,
   "metadata": {},
   "outputs": [
    {
     "data": {
      "text/html": [
       "<style>#sk-container-id-1 {color: black;}#sk-container-id-1 pre{padding: 0;}#sk-container-id-1 div.sk-toggleable {background-color: white;}#sk-container-id-1 label.sk-toggleable__label {cursor: pointer;display: block;width: 100%;margin-bottom: 0;padding: 0.3em;box-sizing: border-box;text-align: center;}#sk-container-id-1 label.sk-toggleable__label-arrow:before {content: \"▸\";float: left;margin-right: 0.25em;color: #696969;}#sk-container-id-1 label.sk-toggleable__label-arrow:hover:before {color: black;}#sk-container-id-1 div.sk-estimator:hover label.sk-toggleable__label-arrow:before {color: black;}#sk-container-id-1 div.sk-toggleable__content {max-height: 0;max-width: 0;overflow: hidden;text-align: left;background-color: #f0f8ff;}#sk-container-id-1 div.sk-toggleable__content pre {margin: 0.2em;color: black;border-radius: 0.25em;background-color: #f0f8ff;}#sk-container-id-1 input.sk-toggleable__control:checked~div.sk-toggleable__content {max-height: 200px;max-width: 100%;overflow: auto;}#sk-container-id-1 input.sk-toggleable__control:checked~label.sk-toggleable__label-arrow:before {content: \"▾\";}#sk-container-id-1 div.sk-estimator input.sk-toggleable__control:checked~label.sk-toggleable__label {background-color: #d4ebff;}#sk-container-id-1 div.sk-label input.sk-toggleable__control:checked~label.sk-toggleable__label {background-color: #d4ebff;}#sk-container-id-1 input.sk-hidden--visually {border: 0;clip: rect(1px 1px 1px 1px);clip: rect(1px, 1px, 1px, 1px);height: 1px;margin: -1px;overflow: hidden;padding: 0;position: absolute;width: 1px;}#sk-container-id-1 div.sk-estimator {font-family: monospace;background-color: #f0f8ff;border: 1px dotted black;border-radius: 0.25em;box-sizing: border-box;margin-bottom: 0.5em;}#sk-container-id-1 div.sk-estimator:hover {background-color: #d4ebff;}#sk-container-id-1 div.sk-parallel-item::after {content: \"\";width: 100%;border-bottom: 1px solid gray;flex-grow: 1;}#sk-container-id-1 div.sk-label:hover label.sk-toggleable__label {background-color: #d4ebff;}#sk-container-id-1 div.sk-serial::before {content: \"\";position: absolute;border-left: 1px solid gray;box-sizing: border-box;top: 0;bottom: 0;left: 50%;z-index: 0;}#sk-container-id-1 div.sk-serial {display: flex;flex-direction: column;align-items: center;background-color: white;padding-right: 0.2em;padding-left: 0.2em;position: relative;}#sk-container-id-1 div.sk-item {position: relative;z-index: 1;}#sk-container-id-1 div.sk-parallel {display: flex;align-items: stretch;justify-content: center;background-color: white;position: relative;}#sk-container-id-1 div.sk-item::before, #sk-container-id-1 div.sk-parallel-item::before {content: \"\";position: absolute;border-left: 1px solid gray;box-sizing: border-box;top: 0;bottom: 0;left: 50%;z-index: -1;}#sk-container-id-1 div.sk-parallel-item {display: flex;flex-direction: column;z-index: 1;position: relative;background-color: white;}#sk-container-id-1 div.sk-parallel-item:first-child::after {align-self: flex-end;width: 50%;}#sk-container-id-1 div.sk-parallel-item:last-child::after {align-self: flex-start;width: 50%;}#sk-container-id-1 div.sk-parallel-item:only-child::after {width: 0;}#sk-container-id-1 div.sk-dashed-wrapped {border: 1px dashed gray;margin: 0 0.4em 0.5em 0.4em;box-sizing: border-box;padding-bottom: 0.4em;background-color: white;}#sk-container-id-1 div.sk-label label {font-family: monospace;font-weight: bold;display: inline-block;line-height: 1.2em;}#sk-container-id-1 div.sk-label-container {text-align: center;}#sk-container-id-1 div.sk-container {/* jupyter's `normalize.less` sets `[hidden] { display: none; }` but bootstrap.min.css set `[hidden] { display: none !important; }` so we also need the `!important` here to be able to override the default hidden behavior on the sphinx rendered scikit-learn.org. See: https://github.com/scikit-learn/scikit-learn/issues/21755 */display: inline-block !important;position: relative;}#sk-container-id-1 div.sk-text-repr-fallback {display: none;}</style><div id=\"sk-container-id-1\" class=\"sk-top-container\"><div class=\"sk-text-repr-fallback\"><pre>GradientBoostingRegressor(max_depth=5, n_estimators=550, random_state=5)</pre><b>In a Jupyter environment, please rerun this cell to show the HTML representation or trust the notebook. <br />On GitHub, the HTML representation is unable to render, please try loading this page with nbviewer.org.</b></div><div class=\"sk-container\" hidden><div class=\"sk-item\"><div class=\"sk-estimator sk-toggleable\"><input class=\"sk-toggleable__control sk-hidden--visually\" id=\"sk-estimator-id-1\" type=\"checkbox\" checked><label for=\"sk-estimator-id-1\" class=\"sk-toggleable__label sk-toggleable__label-arrow\">GradientBoostingRegressor</label><div class=\"sk-toggleable__content\"><pre>GradientBoostingRegressor(max_depth=5, n_estimators=550, random_state=5)</pre></div></div></div></div></div>"
      ],
      "text/plain": [
       "GradientBoostingRegressor(max_depth=5, n_estimators=550, random_state=5)"
      ]
     },
     "execution_count": 394,
     "metadata": {},
     "output_type": "execute_result"
    }
   ],
   "source": [
    "gbr = GradientBoostingRegressor(n_estimators = 550, learning_rate = 0.1, max_depth=5, random_state=5)\n",
    "gbr.fit(X, y)"
   ]
  },
  {
   "cell_type": "code",
   "execution_count": null,
   "metadata": {},
   "outputs": [
    {
     "data": {
      "text/html": [
       "<div>\n",
       "<style scoped>\n",
       "    .dataframe tbody tr th:only-of-type {\n",
       "        vertical-align: middle;\n",
       "    }\n",
       "\n",
       "    .dataframe tbody tr th {\n",
       "        vertical-align: top;\n",
       "    }\n",
       "\n",
       "    .dataframe thead th {\n",
       "        text-align: right;\n",
       "    }\n",
       "</style>\n",
       "<table border=\"1\" class=\"dataframe\">\n",
       "  <thead>\n",
       "    <tr style=\"text-align: right;\">\n",
       "      <th></th>\n",
       "      <th>id</th>\n",
       "      <th>FloodProbability</th>\n",
       "    </tr>\n",
       "  </thead>\n",
       "  <tbody>\n",
       "    <tr>\n",
       "      <th>0</th>\n",
       "      <td>1117957</td>\n",
       "      <td>0.5</td>\n",
       "    </tr>\n",
       "    <tr>\n",
       "      <th>1</th>\n",
       "      <td>1117958</td>\n",
       "      <td>0.5</td>\n",
       "    </tr>\n",
       "    <tr>\n",
       "      <th>2</th>\n",
       "      <td>1117959</td>\n",
       "      <td>0.5</td>\n",
       "    </tr>\n",
       "    <tr>\n",
       "      <th>3</th>\n",
       "      <td>1117960</td>\n",
       "      <td>0.5</td>\n",
       "    </tr>\n",
       "    <tr>\n",
       "      <th>4</th>\n",
       "      <td>1117961</td>\n",
       "      <td>0.5</td>\n",
       "    </tr>\n",
       "  </tbody>\n",
       "</table>\n",
       "</div>"
      ],
      "text/plain": [
       "        id  FloodProbability\n",
       "0  1117957               0.5\n",
       "1  1117958               0.5\n",
       "2  1117959               0.5\n",
       "3  1117960               0.5\n",
       "4  1117961               0.5"
      ]
     },
     "execution_count": 344,
     "metadata": {},
     "output_type": "execute_result"
    }
   ],
   "source": [
    "df_submit = pd.read_csv('./sample_submission.csv')\n",
    "df_submit.head()"
   ]
  },
  {
   "cell_type": "code",
   "execution_count": null,
   "metadata": {},
   "outputs": [
    {
     "data": {
      "text/html": [
       "<div>\n",
       "<style scoped>\n",
       "    .dataframe tbody tr th:only-of-type {\n",
       "        vertical-align: middle;\n",
       "    }\n",
       "\n",
       "    .dataframe tbody tr th {\n",
       "        vertical-align: top;\n",
       "    }\n",
       "\n",
       "    .dataframe thead th {\n",
       "        text-align: right;\n",
       "    }\n",
       "</style>\n",
       "<table border=\"1\" class=\"dataframe\">\n",
       "  <thead>\n",
       "    <tr style=\"text-align: right;\">\n",
       "      <th></th>\n",
       "      <th>id</th>\n",
       "      <th>MonsoonIntensity</th>\n",
       "      <th>TopographyDrainage</th>\n",
       "      <th>RiverManagement</th>\n",
       "      <th>Deforestation</th>\n",
       "      <th>Urbanization</th>\n",
       "      <th>ClimateChange</th>\n",
       "      <th>DamsQuality</th>\n",
       "      <th>Siltation</th>\n",
       "      <th>AgriculturalPractices</th>\n",
       "      <th>...</th>\n",
       "      <th>IneffectiveDisasterPreparedness</th>\n",
       "      <th>DrainageSystems</th>\n",
       "      <th>CoastalVulnerability</th>\n",
       "      <th>Landslides</th>\n",
       "      <th>Watersheds</th>\n",
       "      <th>DeterioratingInfrastructure</th>\n",
       "      <th>PopulationScore</th>\n",
       "      <th>WetlandLoss</th>\n",
       "      <th>InadequatePlanning</th>\n",
       "      <th>PoliticalFactors</th>\n",
       "    </tr>\n",
       "  </thead>\n",
       "  <tbody>\n",
       "    <tr>\n",
       "      <th>0</th>\n",
       "      <td>1117957</td>\n",
       "      <td>4</td>\n",
       "      <td>6</td>\n",
       "      <td>3</td>\n",
       "      <td>5</td>\n",
       "      <td>6</td>\n",
       "      <td>7</td>\n",
       "      <td>8</td>\n",
       "      <td>7</td>\n",
       "      <td>8</td>\n",
       "      <td>...</td>\n",
       "      <td>8</td>\n",
       "      <td>5</td>\n",
       "      <td>7</td>\n",
       "      <td>5</td>\n",
       "      <td>6</td>\n",
       "      <td>3</td>\n",
       "      <td>6</td>\n",
       "      <td>4</td>\n",
       "      <td>4</td>\n",
       "      <td>5</td>\n",
       "    </tr>\n",
       "    <tr>\n",
       "      <th>1</th>\n",
       "      <td>1117958</td>\n",
       "      <td>4</td>\n",
       "      <td>4</td>\n",
       "      <td>2</td>\n",
       "      <td>9</td>\n",
       "      <td>5</td>\n",
       "      <td>5</td>\n",
       "      <td>4</td>\n",
       "      <td>7</td>\n",
       "      <td>5</td>\n",
       "      <td>...</td>\n",
       "      <td>2</td>\n",
       "      <td>4</td>\n",
       "      <td>7</td>\n",
       "      <td>4</td>\n",
       "      <td>5</td>\n",
       "      <td>1</td>\n",
       "      <td>7</td>\n",
       "      <td>4</td>\n",
       "      <td>4</td>\n",
       "      <td>3</td>\n",
       "    </tr>\n",
       "    <tr>\n",
       "      <th>2</th>\n",
       "      <td>1117959</td>\n",
       "      <td>1</td>\n",
       "      <td>3</td>\n",
       "      <td>6</td>\n",
       "      <td>5</td>\n",
       "      <td>7</td>\n",
       "      <td>2</td>\n",
       "      <td>4</td>\n",
       "      <td>6</td>\n",
       "      <td>4</td>\n",
       "      <td>...</td>\n",
       "      <td>7</td>\n",
       "      <td>9</td>\n",
       "      <td>2</td>\n",
       "      <td>5</td>\n",
       "      <td>5</td>\n",
       "      <td>2</td>\n",
       "      <td>3</td>\n",
       "      <td>6</td>\n",
       "      <td>8</td>\n",
       "      <td>3</td>\n",
       "    </tr>\n",
       "    <tr>\n",
       "      <th>3</th>\n",
       "      <td>1117960</td>\n",
       "      <td>2</td>\n",
       "      <td>4</td>\n",
       "      <td>4</td>\n",
       "      <td>6</td>\n",
       "      <td>4</td>\n",
       "      <td>5</td>\n",
       "      <td>4</td>\n",
       "      <td>3</td>\n",
       "      <td>4</td>\n",
       "      <td>...</td>\n",
       "      <td>7</td>\n",
       "      <td>8</td>\n",
       "      <td>4</td>\n",
       "      <td>6</td>\n",
       "      <td>7</td>\n",
       "      <td>6</td>\n",
       "      <td>4</td>\n",
       "      <td>2</td>\n",
       "      <td>4</td>\n",
       "      <td>4</td>\n",
       "    </tr>\n",
       "    <tr>\n",
       "      <th>4</th>\n",
       "      <td>1117961</td>\n",
       "      <td>6</td>\n",
       "      <td>3</td>\n",
       "      <td>2</td>\n",
       "      <td>4</td>\n",
       "      <td>6</td>\n",
       "      <td>4</td>\n",
       "      <td>5</td>\n",
       "      <td>5</td>\n",
       "      <td>3</td>\n",
       "      <td>...</td>\n",
       "      <td>4</td>\n",
       "      <td>3</td>\n",
       "      <td>2</td>\n",
       "      <td>6</td>\n",
       "      <td>4</td>\n",
       "      <td>6</td>\n",
       "      <td>8</td>\n",
       "      <td>4</td>\n",
       "      <td>5</td>\n",
       "      <td>5</td>\n",
       "    </tr>\n",
       "  </tbody>\n",
       "</table>\n",
       "<p>5 rows × 21 columns</p>\n",
       "</div>"
      ],
      "text/plain": [
       "        id  MonsoonIntensity  TopographyDrainage  RiverManagement  \\\n",
       "0  1117957                 4                   6                3   \n",
       "1  1117958                 4                   4                2   \n",
       "2  1117959                 1                   3                6   \n",
       "3  1117960                 2                   4                4   \n",
       "4  1117961                 6                   3                2   \n",
       "\n",
       "   Deforestation  Urbanization  ClimateChange  DamsQuality  Siltation  \\\n",
       "0              5             6              7            8          7   \n",
       "1              9             5              5            4          7   \n",
       "2              5             7              2            4          6   \n",
       "3              6             4              5            4          3   \n",
       "4              4             6              4            5          5   \n",
       "\n",
       "   AgriculturalPractices  ...  IneffectiveDisasterPreparedness  \\\n",
       "0                      8  ...                                8   \n",
       "1                      5  ...                                2   \n",
       "2                      4  ...                                7   \n",
       "3                      4  ...                                7   \n",
       "4                      3  ...                                4   \n",
       "\n",
       "   DrainageSystems  CoastalVulnerability  Landslides  Watersheds  \\\n",
       "0                5                     7           5           6   \n",
       "1                4                     7           4           5   \n",
       "2                9                     2           5           5   \n",
       "3                8                     4           6           7   \n",
       "4                3                     2           6           4   \n",
       "\n",
       "   DeterioratingInfrastructure  PopulationScore  WetlandLoss  \\\n",
       "0                            3                6            4   \n",
       "1                            1                7            4   \n",
       "2                            2                3            6   \n",
       "3                            6                4            2   \n",
       "4                            6                8            4   \n",
       "\n",
       "   InadequatePlanning  PoliticalFactors  \n",
       "0                   4                 5  \n",
       "1                   4                 3  \n",
       "2                   8                 3  \n",
       "3                   4                 4  \n",
       "4                   5                 5  \n",
       "\n",
       "[5 rows x 21 columns]"
      ]
     },
     "execution_count": 345,
     "metadata": {},
     "output_type": "execute_result"
    }
   ],
   "source": [
    "df_test = pd.read_csv('./test.csv')\n",
    "df_test.head()"
   ]
  },
  {
   "cell_type": "code",
   "execution_count": null,
   "metadata": {},
   "outputs": [
    {
     "data": {
      "text/html": [
       "<div>\n",
       "<style scoped>\n",
       "    .dataframe tbody tr th:only-of-type {\n",
       "        vertical-align: middle;\n",
       "    }\n",
       "\n",
       "    .dataframe tbody tr th {\n",
       "        vertical-align: top;\n",
       "    }\n",
       "\n",
       "    .dataframe thead th {\n",
       "        text-align: right;\n",
       "    }\n",
       "</style>\n",
       "<table border=\"1\" class=\"dataframe\">\n",
       "  <thead>\n",
       "    <tr style=\"text-align: right;\">\n",
       "      <th></th>\n",
       "      <th>id</th>\n",
       "      <th>MonsoonIntensity</th>\n",
       "      <th>TopographyDrainage</th>\n",
       "      <th>RiverManagement</th>\n",
       "      <th>Deforestation</th>\n",
       "      <th>Urbanization</th>\n",
       "      <th>ClimateChange</th>\n",
       "      <th>DamsQuality</th>\n",
       "      <th>Siltation</th>\n",
       "      <th>AgriculturalPractices</th>\n",
       "      <th>...</th>\n",
       "      <th>CoastalVulnerability</th>\n",
       "      <th>Landslides</th>\n",
       "      <th>Watersheds</th>\n",
       "      <th>DeterioratingInfrastructure</th>\n",
       "      <th>PopulationScore</th>\n",
       "      <th>WetlandLoss</th>\n",
       "      <th>InadequatePlanning</th>\n",
       "      <th>PoliticalFactors</th>\n",
       "      <th>sum</th>\n",
       "      <th>z_score_agg</th>\n",
       "    </tr>\n",
       "  </thead>\n",
       "  <tbody>\n",
       "    <tr>\n",
       "      <th>0</th>\n",
       "      <td>1117957</td>\n",
       "      <td>4</td>\n",
       "      <td>6</td>\n",
       "      <td>3</td>\n",
       "      <td>5</td>\n",
       "      <td>6</td>\n",
       "      <td>7</td>\n",
       "      <td>8</td>\n",
       "      <td>7</td>\n",
       "      <td>8</td>\n",
       "      <td>...</td>\n",
       "      <td>7</td>\n",
       "      <td>5</td>\n",
       "      <td>6</td>\n",
       "      <td>3</td>\n",
       "      <td>6</td>\n",
       "      <td>4</td>\n",
       "      <td>4</td>\n",
       "      <td>5</td>\n",
       "      <td>111</td>\n",
       "      <td>5.591020</td>\n",
       "    </tr>\n",
       "    <tr>\n",
       "      <th>1</th>\n",
       "      <td>1117958</td>\n",
       "      <td>4</td>\n",
       "      <td>4</td>\n",
       "      <td>2</td>\n",
       "      <td>9</td>\n",
       "      <td>5</td>\n",
       "      <td>5</td>\n",
       "      <td>4</td>\n",
       "      <td>7</td>\n",
       "      <td>5</td>\n",
       "      <td>...</td>\n",
       "      <td>7</td>\n",
       "      <td>4</td>\n",
       "      <td>5</td>\n",
       "      <td>1</td>\n",
       "      <td>7</td>\n",
       "      <td>4</td>\n",
       "      <td>4</td>\n",
       "      <td>3</td>\n",
       "      <td>90</td>\n",
       "      <td>-7.009991</td>\n",
       "    </tr>\n",
       "    <tr>\n",
       "      <th>2</th>\n",
       "      <td>1117959</td>\n",
       "      <td>1</td>\n",
       "      <td>3</td>\n",
       "      <td>6</td>\n",
       "      <td>5</td>\n",
       "      <td>7</td>\n",
       "      <td>2</td>\n",
       "      <td>4</td>\n",
       "      <td>6</td>\n",
       "      <td>4</td>\n",
       "      <td>...</td>\n",
       "      <td>2</td>\n",
       "      <td>5</td>\n",
       "      <td>5</td>\n",
       "      <td>2</td>\n",
       "      <td>3</td>\n",
       "      <td>6</td>\n",
       "      <td>8</td>\n",
       "      <td>3</td>\n",
       "      <td>90</td>\n",
       "      <td>-7.037646</td>\n",
       "    </tr>\n",
       "    <tr>\n",
       "      <th>3</th>\n",
       "      <td>1117960</td>\n",
       "      <td>2</td>\n",
       "      <td>4</td>\n",
       "      <td>4</td>\n",
       "      <td>6</td>\n",
       "      <td>4</td>\n",
       "      <td>5</td>\n",
       "      <td>4</td>\n",
       "      <td>3</td>\n",
       "      <td>4</td>\n",
       "      <td>...</td>\n",
       "      <td>4</td>\n",
       "      <td>6</td>\n",
       "      <td>7</td>\n",
       "      <td>6</td>\n",
       "      <td>4</td>\n",
       "      <td>2</td>\n",
       "      <td>4</td>\n",
       "      <td>4</td>\n",
       "      <td>92</td>\n",
       "      <td>-5.831661</td>\n",
       "    </tr>\n",
       "    <tr>\n",
       "      <th>4</th>\n",
       "      <td>1117961</td>\n",
       "      <td>6</td>\n",
       "      <td>3</td>\n",
       "      <td>2</td>\n",
       "      <td>4</td>\n",
       "      <td>6</td>\n",
       "      <td>4</td>\n",
       "      <td>5</td>\n",
       "      <td>5</td>\n",
       "      <td>3</td>\n",
       "      <td>...</td>\n",
       "      <td>2</td>\n",
       "      <td>6</td>\n",
       "      <td>4</td>\n",
       "      <td>6</td>\n",
       "      <td>8</td>\n",
       "      <td>4</td>\n",
       "      <td>5</td>\n",
       "      <td>5</td>\n",
       "      <td>92</td>\n",
       "      <td>-5.818660</td>\n",
       "    </tr>\n",
       "  </tbody>\n",
       "</table>\n",
       "<p>5 rows × 23 columns</p>\n",
       "</div>"
      ],
      "text/plain": [
       "        id  MonsoonIntensity  TopographyDrainage  RiverManagement  \\\n",
       "0  1117957                 4                   6                3   \n",
       "1  1117958                 4                   4                2   \n",
       "2  1117959                 1                   3                6   \n",
       "3  1117960                 2                   4                4   \n",
       "4  1117961                 6                   3                2   \n",
       "\n",
       "   Deforestation  Urbanization  ClimateChange  DamsQuality  Siltation  \\\n",
       "0              5             6              7            8          7   \n",
       "1              9             5              5            4          7   \n",
       "2              5             7              2            4          6   \n",
       "3              6             4              5            4          3   \n",
       "4              4             6              4            5          5   \n",
       "\n",
       "   AgriculturalPractices  ...  CoastalVulnerability  Landslides  Watersheds  \\\n",
       "0                      8  ...                     7           5           6   \n",
       "1                      5  ...                     7           4           5   \n",
       "2                      4  ...                     2           5           5   \n",
       "3                      4  ...                     4           6           7   \n",
       "4                      3  ...                     2           6           4   \n",
       "\n",
       "   DeterioratingInfrastructure  PopulationScore  WetlandLoss  \\\n",
       "0                            3                6            4   \n",
       "1                            1                7            4   \n",
       "2                            2                3            6   \n",
       "3                            6                4            2   \n",
       "4                            6                8            4   \n",
       "\n",
       "   InadequatePlanning  PoliticalFactors  sum  z_score_agg  \n",
       "0                   4                 5  111     5.591020  \n",
       "1                   4                 3   90    -7.009991  \n",
       "2                   8                 3   90    -7.037646  \n",
       "3                   4                 4   92    -5.831661  \n",
       "4                   5                 5   92    -5.818660  \n",
       "\n",
       "[5 rows x 23 columns]"
      ]
     },
     "execution_count": 346,
     "metadata": {},
     "output_type": "execute_result"
    }
   ],
   "source": [
    "df_test['sum'] = df_test['MonsoonIntensity'] + df_test['TopographyDrainage'] + df_test['RiverManagement'] + df_test['Deforestation'] +  df_test['Urbanization'] +  df_test['ClimateChange'] + df_test['DamsQuality'] + df_test['Siltation'] + df_test['AgriculturalPractices'] + df_test['Encroachments'] + df_test['IneffectiveDisasterPreparedness'] + df_test['DrainageSystems'] + df_test['CoastalVulnerability'] + df_test['Landslides'] + df_test['Watersheds'] + df_test['DeterioratingInfrastructure'] + df_test['PopulationScore'] + df_test['WetlandLoss'] + df_test['InadequatePlanning'] + df_test['PoliticalFactors']\n",
    "\n",
    "z_scores = df_test.apply(zscore)\n",
    "\n",
    "# Sum the z-scores across the columns for each row\n",
    "df_test['z_score_agg'] = z_scores.sum(axis=1)\n",
    "\n",
    "df_test.head()"
   ]
  },
  {
   "cell_type": "code",
   "execution_count": null,
   "metadata": {},
   "outputs": [
    {
     "data": {
      "text/plain": [
       "array([0.30852716, 0.51449028, 0.51466454, ..., 0.37508384, 0.50300717,\n",
       "       0.57146334])"
      ]
     },
     "execution_count": 347,
     "metadata": {},
     "output_type": "execute_result"
    }
   ],
   "source": [
    "# test_preds = lr_mult.predict(df_test[['sum', 'z_score_agg']])\n",
    "test_preds = lr_mult.predict(df_test[features])\n",
    "test_preds"
   ]
  },
  {
   "cell_type": "code",
   "execution_count": null,
   "metadata": {},
   "outputs": [
    {
     "data": {
      "text/html": [
       "<div>\n",
       "<style scoped>\n",
       "    .dataframe tbody tr th:only-of-type {\n",
       "        vertical-align: middle;\n",
       "    }\n",
       "\n",
       "    .dataframe tbody tr th {\n",
       "        vertical-align: top;\n",
       "    }\n",
       "\n",
       "    .dataframe thead th {\n",
       "        text-align: right;\n",
       "    }\n",
       "</style>\n",
       "<table border=\"1\" class=\"dataframe\">\n",
       "  <thead>\n",
       "    <tr style=\"text-align: right;\">\n",
       "      <th></th>\n",
       "      <th>id</th>\n",
       "      <th>FloodProbability</th>\n",
       "    </tr>\n",
       "  </thead>\n",
       "  <tbody>\n",
       "    <tr>\n",
       "      <th>0</th>\n",
       "      <td>1117957</td>\n",
       "      <td>0.308527</td>\n",
       "    </tr>\n",
       "    <tr>\n",
       "      <th>1</th>\n",
       "      <td>1117958</td>\n",
       "      <td>0.514490</td>\n",
       "    </tr>\n",
       "    <tr>\n",
       "      <th>2</th>\n",
       "      <td>1117959</td>\n",
       "      <td>0.514665</td>\n",
       "    </tr>\n",
       "    <tr>\n",
       "      <th>3</th>\n",
       "      <td>1117960</td>\n",
       "      <td>0.494832</td>\n",
       "    </tr>\n",
       "    <tr>\n",
       "      <th>4</th>\n",
       "      <td>1117961</td>\n",
       "      <td>0.495167</td>\n",
       "    </tr>\n",
       "  </tbody>\n",
       "</table>\n",
       "</div>"
      ],
      "text/plain": [
       "        id  FloodProbability\n",
       "0  1117957          0.308527\n",
       "1  1117958          0.514490\n",
       "2  1117959          0.514665\n",
       "3  1117960          0.494832\n",
       "4  1117961          0.495167"
      ]
     },
     "execution_count": 348,
     "metadata": {},
     "output_type": "execute_result"
    }
   ],
   "source": [
    "df_submit = pd.DataFrame()\n",
    "df_submit['id'] = df_test['id']\n",
    "df_submit['FloodProbability'] = test_preds\n",
    "df_submit.head()"
   ]
  },
  {
   "cell_type": "code",
   "execution_count": null,
   "metadata": {},
   "outputs": [],
   "source": [
    "df_submit.to_csv('./submission.csv', index=False)"
   ]
  },
  {
   "cell_type": "code",
   "execution_count": null,
   "metadata": {},
   "outputs": [
    {
     "name": "stdout",
     "output_type": "stream",
     "text": [
      "Warning: Looks like you're using an outdated API Version, please consider updating (server 1.6.14 / client 1.6.8)\n",
      "100%|██████████████████████████████████████| 19.3M/19.3M [00:01<00:00, 12.3MB/s]\n",
      "Successfully submitted to Regression with a Flood Prediction Dataset"
     ]
    }
   ],
   "source": [
    "!kaggle competitions submit -c playground-series-s4e5 -f submission.csv -m \"Attempting submission with linear regression not trained on anything useful\""
   ]
  },
  {
   "cell_type": "markdown",
   "metadata": {},
   "source": [
    "## Data Cleaning"
   ]
  },
  {
   "cell_type": "markdown",
   "metadata": {},
   "source": [
    "### Drop ID"
   ]
  },
  {
   "cell_type": "code",
   "execution_count": null,
   "metadata": {},
   "outputs": [],
   "source": [
    "'''\n",
    "Drops the name column in the df dataframe if it is present\n",
    "   Allows the data cleaning pipeline to be called multiple times if necessary\n",
    "'''\n",
    "def drop_column(name, df):\n",
    "    if name in df_ret.columns:\n",
    "        df_ret = df.copy()\n",
    "        df_ret = df_ret.drop(name, axis=1)\n",
    "        return df_ret\n",
    "    else:\n",
    "        return df\n",
    "\n",
    "# Make sure that ID is added to this list for the cleaning pipeline \n",
    "columns_to_drop = ['id']"
   ]
  }
 ],
 "metadata": {
  "kernelspec": {
   "display_name": "Python 3",
   "language": "python",
   "name": "python3"
  },
  "language_info": {
   "codemirror_mode": {
    "name": "ipython",
    "version": 3
   },
   "file_extension": ".py",
   "mimetype": "text/x-python",
   "name": "python",
   "nbconvert_exporter": "python",
   "pygments_lexer": "ipython3",
   "version": "3.10.14"
  }
 },
 "nbformat": 4,
 "nbformat_minor": 2
}
